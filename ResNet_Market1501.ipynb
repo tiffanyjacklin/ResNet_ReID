{
  "cells": [
    {
      "cell_type": "markdown",
      "metadata": {},
      "source": [
        "# Training & Testing Menggunakan Market-1501\n",
        "\n",
        "Link Dataset\n",
        "\n",
        "Market-1501\n",
        "https://zheng-lab.cecs.anu.edu.au/Project/project_reid.html\n"
      ]
    },
    {
      "cell_type": "markdown",
      "metadata": {
        "id": "JAcRarC_NTCs"
      },
      "source": [
        "# Training"
      ]
    },
    {
      "cell_type": "markdown",
      "metadata": {
        "id": "iS5vyVfQNVWV"
      },
      "source": [
        "### Data"
      ]
    },
    {
      "cell_type": "code",
      "execution_count": null,
      "metadata": {
        "id": "8p8eUxRNt-tY"
      },
      "outputs": [],
      "source": [
        "import os\n",
        "import math\n",
        "import copy\n",
        "import shutil\n",
        "\n",
        "import pandas as pd\n",
        "import numpy as np\n",
        "\n",
        "import time\n",
        "\n",
        "from tempfile import TemporaryDirectory\n",
        "\n",
        "import matplotlib.pyplot as plt\n",
        "\n",
        "import torch\n",
        "import torch.nn as nn\n",
        "import torch.optim as optim\n",
        "from torch.optim import lr_scheduler\n",
        "import torch.backends.cudnn as cudnn\n",
        "from torchvision import transforms, datasets\n",
        "import torchvision\n",
        "from torchvision.models import resnet18, ResNet18_Weights, resnet34, ResNet34_Weights, resnet50, ResNet50_Weights, resnext50_32x4d, ResNeXt50_32X4D_Weights\n",
        "from torch.cuda.amp import GradScaler, autocast\n",
        "from torchsummary import summary\n",
        "from torch.autograd import Variable\n",
        "\n",
        "# import skimage\n",
        "from skimage.io import imread\n",
        "\n",
        "from sklearn.model_selection import train_test_split\n",
        "from sklearn.metrics import accuracy_score, average_precision_score"
      ]
    },
    {
      "cell_type": "code",
      "execution_count": null,
      "metadata": {
        "id": "ieegIxb6s9Fs"
      },
      "outputs": [],
      "source": [
        "dataset_path = \"/content/Market-1501-v15.09.15/\"\n",
        "if os.path.exists(dataset_path):\n",
        "    shutil.rmtree(dataset_path)"
      ]
    },
    {
      "cell_type": "code",
      "execution_count": null,
      "metadata": {
        "colab": {
          "base_uri": "https://localhost:8080/"
        },
        "id": "d3afLs1ihyS6",
        "outputId": "4f966bcc-38fb-4923-c09c-7c05b85f853b"
      },
      "outputs": [
        {
          "name": "stdout",
          "output_type": "stream",
          "text": [
            "Drive already mounted at /content/drive; to attempt to forcibly remount, call drive.mount(\"/content/drive\", force_remount=True).\n",
            "Zip file has been extracted successfully.\n"
          ]
        }
      ],
      "source": [
        "from google.colab import drive\n",
        "import zipfile\n",
        "import os\n",
        "\n",
        "# Mount Google Drive\n",
        "drive.mount('/content/drive')\n",
        "\n",
        "# Path to the zip file in your Google Drive\n",
        "zip_file_path = '/content/drive/My Drive/Semester 6/Deep/Proyek/Dataset/Market-1501-v15.09.15.zip'\n",
        "\n",
        "# Directory to extract the contents of the zip file\n",
        "extracted_dir_path = '/content/'\n",
        "\n",
        "# Create a directory if it doesn't exist\n",
        "os.makedirs(extracted_dir_path, exist_ok=True)\n",
        "\n",
        "# Unzip the file\n",
        "with zipfile.ZipFile(zip_file_path, 'r') as zip_ref:\n",
        "    zip_ref.extractall(extracted_dir_path)\n",
        "\n",
        "print(\"Zip file has been extracted successfully.\")\n",
        "\n",
        "extracted_files = os.listdir(extracted_dir_path)"
      ]
    },
    {
      "cell_type": "code",
      "execution_count": null,
      "metadata": {
        "id": "jipeAz0wkNHI"
      },
      "outputs": [],
      "source": [
        "import os\n",
        "from shutil import copyfile\n",
        "\n",
        "download_path = '/content/Market-1501-v15.09.15'\n",
        "\n",
        "if not os.path.isdir(download_path):\n",
        "    print('please change the download_path')\n",
        "\n",
        "save_path = download_path + '/pytorch'\n",
        "if not os.path.isdir(save_path):\n",
        "    os.mkdir(save_path)\n",
        "#-----------------------------------------\n",
        "#query\n",
        "query_path = download_path + '/query'\n",
        "query_save_path = download_path + '/pytorch/query'\n",
        "if not os.path.isdir(query_save_path):\n",
        "    os.mkdir(query_save_path)\n",
        "\n",
        "for root, dirs, files in os.walk(query_path, topdown=True):\n",
        "    for name in files:\n",
        "        if not name[-3:]=='jpg':\n",
        "            continue\n",
        "        ID  = name.split('_')\n",
        "\n",
        "        if ID[0] == '-1':\n",
        "          continue\n",
        "\n",
        "        src_path = query_path + '/' + name\n",
        "        dst_path = query_save_path + '/' + ID[0]\n",
        "        if not os.path.isdir(dst_path):\n",
        "            os.mkdir(dst_path)\n",
        "        copyfile(src_path, dst_path + '/' + name)\n",
        "\n",
        "#-----------------------------------------\n",
        "#multi-query\n",
        "query_path = download_path + '/gt_bbox'\n",
        "\n",
        "if os.path.isdir(query_path):\n",
        "    query_save_path = download_path + '/pytorch/multi-query'\n",
        "    if not os.path.isdir(query_save_path):\n",
        "        os.mkdir(query_save_path)\n",
        "\n",
        "    for root, dirs, files in os.walk(query_path, topdown=True):\n",
        "        for name in files:\n",
        "            if not name[-3:]=='jpg':\n",
        "                continue\n",
        "            ID  = name.split('_')\n",
        "            src_path = query_path + '/' + name\n",
        "            dst_path = query_save_path + '/' + ID[0]\n",
        "            if not os.path.isdir(dst_path):\n",
        "                os.mkdir(dst_path)\n",
        "            copyfile(src_path, dst_path + '/' + name)\n",
        "\n",
        "#-----------------------------------------\n",
        "#gallery\n",
        "gallery_path = download_path + '/bounding_box_test'\n",
        "gallery_save_path = download_path + '/pytorch/gallery'\n",
        "if not os.path.isdir(gallery_save_path):\n",
        "    os.mkdir(gallery_save_path)\n",
        "\n",
        "for root, dirs, files in os.walk(gallery_path, topdown=True):\n",
        "    for name in files:\n",
        "        if not name[-3:]=='jpg':\n",
        "            continue\n",
        "        ID  = name.split('_')\n",
        "\n",
        "        if ID[0] == '-1':\n",
        "          continue\n",
        "\n",
        "        src_path = gallery_path + '/' + name\n",
        "        dst_path = gallery_save_path + '/' + ID[0]\n",
        "        if not os.path.isdir(dst_path):\n",
        "            os.mkdir(dst_path)\n",
        "        copyfile(src_path, dst_path + '/' + name)\n",
        "\n",
        "#---------------------------------------\n",
        "#train_all\n",
        "train_path = download_path + '/bounding_box_train'\n",
        "train_save_path = download_path + '/pytorch/train_all'\n",
        "if not os.path.isdir(train_save_path):\n",
        "    os.mkdir(train_save_path)\n",
        "\n",
        "for root, dirs, files in os.walk(train_path, topdown=True):\n",
        "    for name in files:\n",
        "        if not name[-3:]=='jpg':\n",
        "            continue\n",
        "        ID  = name.split('_')\n",
        "        src_path = train_path + '/' + name\n",
        "        dst_path = train_save_path + '/' + ID[0]\n",
        "        if not os.path.isdir(dst_path):\n",
        "            os.mkdir(dst_path)\n",
        "        copyfile(src_path, dst_path + '/' + name)\n",
        "\n",
        "\n",
        "#---------------------------------------\n",
        "#train_val\n",
        "train_path = download_path + '/bounding_box_train'\n",
        "train_save_path = download_path + '/pytorch/train'\n",
        "val_save_path = download_path + '/pytorch/val'\n",
        "if not os.path.isdir(train_save_path):\n",
        "    os.mkdir(train_save_path)\n",
        "    os.mkdir(val_save_path)\n",
        "\n",
        "for root, dirs, files in os.walk(train_path, topdown=True):\n",
        "    for name in files:\n",
        "        if not name[-3:]=='jpg':\n",
        "            continue\n",
        "        ID  = name.split('_')\n",
        "        src_path = train_path + '/' + name\n",
        "        dst_path = train_save_path + '/' + ID[0]\n",
        "        if not os.path.isdir(dst_path):\n",
        "            os.mkdir(dst_path)\n",
        "            dst_path = val_save_path + '/' + ID[0]\n",
        "            os.mkdir(dst_path)\n",
        "        copyfile(src_path, dst_path + '/' + name)"
      ]
    },
    {
      "cell_type": "code",
      "execution_count": null,
      "metadata": {
        "colab": {
          "base_uri": "https://localhost:8080/"
        },
        "id": "1xpn5KqD_OXT",
        "outputId": "ec857d2d-0f39-4a2a-c8df-2088a699ce42"
      },
      "outputs": [
        {
          "name": "stdout",
          "output_type": "stream",
          "text": [
            "751\n",
            "751\n",
            "751\n",
            "750\n"
          ]
        }
      ],
      "source": [
        "print(len(os.listdir(\"/content/Market-1501-v15.09.15/pytorch/train\")))\n",
        "print(len(os.listdir(\"/content/Market-1501-v15.09.15/pytorch/val\")))\n",
        "print(len(os.listdir(\"/content/Market-1501-v15.09.15/pytorch/gallery\")))\n",
        "print(len(os.listdir(\"/content/Market-1501-v15.09.15/pytorch/query\")))"
      ]
    },
    {
      "cell_type": "code",
      "execution_count": null,
      "metadata": {
        "id": "df4fIhEBqgQe"
      },
      "outputs": [],
      "source": [
        "# Untuk train-test split 50:50, bagian ini tidak dirun\n",
        "\n",
        "def move_files(src_path, dst_path, split_percentage):\n",
        "    if not os.path.isdir(dst_path):\n",
        "        os.makedirs(dst_path)\n",
        "\n",
        "    class_folders = os.listdir(src_path)\n",
        "    num_classes = len(class_folders)\n",
        "\n",
        "    num_train_classes = int(num_classes * split_percentage)\n",
        "    train_classes = class_folders[:num_train_classes]\n",
        "\n",
        "    for class_folder in train_classes:\n",
        "        if class_folder == '-1':\n",
        "            continue\n",
        "        src_class_path = os.path.join(src_path, class_folder)\n",
        "        dst_class_path = os.path.join(dst_path, class_folder)\n",
        "        shutil.move(src_class_path, dst_class_path)\n",
        "\n",
        "        src_image_path = os.path.join(dst_class_path, os.listdir(dst_class_path)[0])\n",
        "        dst_val_class_path = os.path.join(val_save_path, class_folder)\n",
        "        if not os.path.exists(dst_val_class_path):\n",
        "            os.makedirs(dst_val_class_path)\n",
        "        shutil.move(src_image_path, dst_val_class_path)"
      ]
    },
    {
      "cell_type": "code",
      "execution_count": null,
      "metadata": {
        "id": "u8gP7K6CqjLM"
      },
      "outputs": [],
      "source": [
        "# Untuk train-test split 50:50, bagian ini tidak dirun\n",
        "\n",
        "def filter_query(src_path, reference_classes):\n",
        "    query_folders = os.listdir(src_path)\n",
        "    for query_folder in query_folders:\n",
        "        if query_folder not in reference_classes:\n",
        "            shutil.rmtree(os.path.join(src_path, query_folder))"
      ]
    },
    {
      "cell_type": "code",
      "execution_count": null,
      "metadata": {
        "colab": {
          "base_uri": "https://localhost:8080/"
        },
        "id": "Hw5bGjYxqnN8",
        "outputId": "795eeaa7-63de-43e1-86c3-f35426d2a992"
      },
      "outputs": [
        {
          "name": "stdout",
          "output_type": "stream",
          "text": [
            "1201\n",
            "1201\n",
            "301\n"
          ]
        }
      ],
      "source": [
        "# Untuk train-test split 50:50, bagian ini tidak dirun\n",
        "\n",
        "gallery_path = '/content/Market-1501-v15.09.15/pytorch/gallery'\n",
        "query_path = '/content/Market-1501-v15.09.15/pytorch/query'\n",
        "\n",
        "split_percentage = 0.6\n",
        "\n",
        "move_files(gallery_path, train_save_path, split_percentage)\n",
        "\n",
        "print(len(os.listdir(\"/content/Market-1501-v15.09.15/pytorch/train\")))\n",
        "print(len(os.listdir(\"/content/Market-1501-v15.09.15/pytorch/val\")))\n",
        "print(len(os.listdir(\"/content/Market-1501-v15.09.15/pytorch/gallery\")))"
      ]
    },
    {
      "cell_type": "code",
      "execution_count": null,
      "metadata": {
        "colab": {
          "base_uri": "https://localhost:8080/"
        },
        "id": "gMQEijzZrthv",
        "outputId": "92acfabf-5512-4022-adfa-a399ea4d6d54"
      },
      "outputs": [
        {
          "name": "stdout",
          "output_type": "stream",
          "text": [
            "301\n"
          ]
        }
      ],
      "source": [
        "# Untuk train-test split 50:50, bagian ini tidak dirun\n",
        "\n",
        "reference_classes = os.listdir(gallery_path)\n",
        "filter_query(query_path, reference_classes)\n",
        "print(len(os.listdir(\"/content/Market-1501-v15.09.15/pytorch/query\")))"
      ]
    },
    {
      "cell_type": "code",
      "execution_count": null,
      "metadata": {
        "id": "YrGaSaAwuYkp"
      },
      "outputs": [],
      "source": [
        "h, w = 256, 128\n",
        "data_dir = '/content/Market-1501-v15.09.15/pytorch'\n",
        "batchsize = 64\n",
        "num_epochs = 1\n",
        "device = torch.device(\"cuda:0\" if torch.cuda.is_available() else \"cpu\")\n"
      ]
    },
    {
      "cell_type": "code",
      "execution_count": null,
      "metadata": {
        "colab": {
          "base_uri": "https://localhost:8080/"
        },
        "id": "1-Z-nR5QusoF",
        "outputId": "58d2ecef-b334-46e3-b04f-9d2090d46cb5"
      },
      "outputs": [
        {
          "name": "stdout",
          "output_type": "stream",
          "text": [
            "1201\n"
          ]
        }
      ],
      "source": [
        "transform_train_list = [\n",
        "    transforms.Resize((h, w), interpolation=3),\n",
        "    transforms.Pad(10),\n",
        "    transforms.ToTensor(),\n",
        "    transforms.Normalize([0.485, 0.456, 0.406], [0.229, 0.224, 0.225])\n",
        "]\n",
        "\n",
        "transform_val_list = [\n",
        "    transforms.Resize(size=(h, w), interpolation=3),  # Image.BICUBIC\n",
        "    transforms.ToTensor(),\n",
        "    transforms.Normalize([0.485, 0.456, 0.406], [0.229, 0.224, 0.225])\n",
        "]\n",
        "\n",
        "data_transforms = {\n",
        "    'train': transforms.Compose(transform_train_list),\n",
        "    'val': transforms.Compose(transform_val_list),\n",
        "}\n",
        "\n",
        "image_datasets = {}\n",
        "image_datasets['train'] = datasets.ImageFolder(os.path.join(data_dir, 'train'),\n",
        "                                               data_transforms['train'])\n",
        "image_datasets['val'] = datasets.ImageFolder(os.path.join(data_dir, 'val'),\n",
        "                                             data_transforms['val'])\n",
        "\n",
        "dataloaders = {x: torch.utils.data.DataLoader(image_datasets[x], batch_size=batchsize, shuffle=True, num_workers=2)\n",
        "               for x in ['train', 'val']}\n",
        "\n",
        "dataset_sizes = {x: len(image_datasets[x]) for x in ['train', 'val']}\n",
        "class_names = image_datasets['train'].classes\n",
        "print(len(class_names))"
      ]
    },
    {
      "cell_type": "code",
      "execution_count": null,
      "metadata": {
        "colab": {
          "base_uri": "https://localhost:8080/",
          "height": 86
        },
        "id": "pzmzmZb9TOVy",
        "outputId": "52287d4f-2307-4d8e-e584-7bf15b7ccd60"
      },
      "outputs": [
        {
          "data": {
            "image/png": "[encoded data removed]",
            "text/plain": [
              "<Figure size 640x480 with 1 Axes>"
            ]
          },
          "metadata": {},
          "output_type": "display_data"
        }
      ],
      "source": [
        "def imshow(inp, title=None):\n",
        "    \"\"\"Display image for Tensor.\"\"\"\n",
        "    inp = inp.numpy().transpose((1, 2, 0))\n",
        "    mean = np.array([0.485, 0.456, 0.406])\n",
        "    std = np.array([0.229, 0.224, 0.225])\n",
        "    inp = std * inp + mean\n",
        "    inp = np.clip(inp, 0, 1)\n",
        "    plt.imshow(inp)\n",
        "    if title is not None:\n",
        "        plt.title(title)\n",
        "    plt.pause(0.001)\n",
        "\n",
        "\n",
        "inputs, classes = next(iter(dataloaders['train']))\n",
        "\n",
        "out = torchvision.utils.make_grid(inputs)\n",
        "\n",
        "imshow(out, title=[class_names[x] for x in classes])"
      ]
    },
    {
      "cell_type": "code",
      "execution_count": null,
      "metadata": {
        "id": "IipNU6Tby2Du"
      },
      "outputs": [],
      "source": [
        "def train_model(model, dataloaders, criterion, optimizer, scheduler, save_dir, save_train_name, save_best_name, num_epochs=25, start_epoch=0,):\n",
        "    since = time.time()\n",
        "\n",
        "    if not os.path.exists(save_dir):\n",
        "        os.makedirs(save_dir)\n",
        "\n",
        "    save_train = os.path.join(save_dir, save_train_name)\n",
        "    save_best = os.path.join(save_dir, save_best_name)\n",
        "\n",
        "    with TemporaryDirectory() as tempdir:\n",
        "        best_model_params_path = os.path.join(tempdir, 'best_model_params.pt')\n",
        "\n",
        "        torch.save(model.state_dict(), best_model_params_path)\n",
        "        best_acc = 0.0\n",
        "        scaler = GradScaler()\n",
        "\n",
        "        if start_epoch > 0:\n",
        "          if os.path.exists(save_best):\n",
        "            model.load_state_dict(torch.load(save_best))\n",
        "          else:\n",
        "            model.load_state_dict(torch.load(save_train))\n",
        "          print(f\"Resuming training from epoch {start_epoch}\")\n",
        "\n",
        "        for epoch in range(start_epoch, num_epochs):\n",
        "            print(f'Epoch {epoch}/{num_epochs - 1}')\n",
        "            print('-' * 10)\n",
        "\n",
        "            for phase in ['train', 'val']:\n",
        "                if phase == 'train':\n",
        "                    model.train()\n",
        "                else:\n",
        "                    model.eval()\n",
        "\n",
        "                running_loss = 0.0\n",
        "                running_corrects = 0\n",
        "\n",
        "                for inputs, labels in dataloaders[phase]:\n",
        "                    inputs = inputs.to(device)\n",
        "                    labels = labels.to(device)\n",
        "\n",
        "                    optimizer.zero_grad()\n",
        "\n",
        "                    with autocast():\n",
        "                        outputs = model(inputs)\n",
        "                        _, preds = torch.max(outputs, 1)\n",
        "                        loss = criterion(outputs, labels)\n",
        "\n",
        "                        if phase == 'train':\n",
        "                            scaler.scale(loss).backward()\n",
        "                            scaler.step(optimizer)\n",
        "                            scaler.update()\n",
        "\n",
        "                    running_loss += loss.item() * inputs.size(0)\n",
        "                    running_corrects += torch.sum(preds == labels.data)\n",
        "                if phase == 'train':\n",
        "                    scheduler.step()\n",
        "\n",
        "                epoch_loss = running_loss / dataset_sizes[phase]\n",
        "                epoch_acc = running_corrects.double() / dataset_sizes[phase]\n",
        "\n",
        "                print(f'{phase} Loss: {epoch_loss:.4f} Acc: {epoch_acc:.4f}')\n",
        "\n",
        "                torch.save(model.state_dict(), save_train)\n",
        "\n",
        "                if phase == 'val' and epoch_acc > best_acc:\n",
        "                    best_acc = epoch_acc\n",
        "                    torch.save(model.state_dict(), best_model_params_path)\n",
        "                    torch.save(model.state_dict(), save_best)\n",
        "\n",
        "            print()\n",
        "\n",
        "        time_elapsed = time.time() - since\n",
        "        print(f'Training complete in {time_elapsed // 60:.0f}m {time_elapsed % 60:.0f}s')\n",
        "        print(f'Best val Acc: {best_acc:4f}')\n",
        "\n",
        "        model.load_state_dict(torch.load(best_model_params_path))\n",
        "    return model"
      ]
    },
    {
      "cell_type": "code",
      "execution_count": null,
      "metadata": {
        "id": "ttA-bFF7Lcrq"
      },
      "outputs": [],
      "source": [
        "def train_model_no_gs(model, dataloaders, criterion, optimizer, scheduler, save_dir, save_train_name, save_best_name, num_epochs=25, start_epoch=0,):\n",
        "    since = time.time()\n",
        "\n",
        "    if not os.path.exists(save_dir):\n",
        "        os.makedirs(save_dir)\n",
        "\n",
        "    save_train = os.path.join(save_dir, save_train_name)\n",
        "    save_best = os.path.join(save_dir, save_best_name)\n",
        "\n",
        "    with TemporaryDirectory() as tempdir:\n",
        "        best_model_params_path = os.path.join(tempdir, 'best_model_params.pt')\n",
        "\n",
        "        torch.save(model.state_dict(), best_model_params_path)\n",
        "        best_acc = 0.0\n",
        "\n",
        "        if start_epoch > 0:\n",
        "          if os.path.exists(save_best):\n",
        "            model.load_state_dict(torch.load(save_best))\n",
        "          else:\n",
        "            model.load_state_dict(torch.load(save_train))\n",
        "          print(f\"Resuming training from epoch {start_epoch}\")\n",
        "\n",
        "        for epoch in range(start_epoch, num_epochs):\n",
        "            print(f'Epoch {epoch}/{num_epochs - 1}')\n",
        "            print('-' * 10)\n",
        "\n",
        "            for phase in ['train', 'val']:\n",
        "                if phase == 'train':\n",
        "                    model.train()\n",
        "                else:\n",
        "                    model.eval()\n",
        "\n",
        "                running_loss = 0.0\n",
        "                running_corrects = 0\n",
        "\n",
        "                for inputs, labels in dataloaders[phase]:\n",
        "                    inputs = inputs.to(device)\n",
        "                    labels = labels.to(device)\n",
        "\n",
        "                    optimizer.zero_grad()\n",
        "\n",
        "                    with torch.set_grad_enabled(phase == 'train'):\n",
        "                        outputs = model(inputs)\n",
        "                        _, preds = torch.max(outputs, 1)\n",
        "                        loss = criterion(outputs, labels)\n",
        "\n",
        "                        if phase == 'train':\n",
        "                            loss.backward()\n",
        "                            optimizer.step()\n",
        "\n",
        "                    # statistics\n",
        "                    running_loss += loss.item() * inputs.size(0)\n",
        "                    running_corrects += torch.sum(preds == labels.data)\n",
        "                if phase == 'train':\n",
        "                    scheduler.step()\n",
        "\n",
        "                epoch_loss = running_loss / dataset_sizes[phase]\n",
        "                epoch_acc = running_corrects.double() / dataset_sizes[phase]\n",
        "\n",
        "                print(f'{phase} Loss: {epoch_loss:.4f} Acc: {epoch_acc:.4f}')\n",
        "\n",
        "                torch.save(model.state_dict(), save_train)\n",
        "\n",
        "                if phase == 'val' and epoch_acc > best_acc:\n",
        "                    best_acc = epoch_acc\n",
        "                    torch.save(model.state_dict(), best_model_params_path)\n",
        "                    torch.save(model.state_dict(), save_best)\n",
        "\n",
        "            print()\n",
        "\n",
        "        time_elapsed = time.time() - since\n",
        "        print(f'Training complete in {time_elapsed // 60:.0f}m {time_elapsed % 60:.0f}s')\n",
        "        print(f'Best val Acc: {best_acc:4f}')\n",
        "\n",
        "        model.load_state_dict(torch.load(best_model_params_path))\n",
        "    return model"
      ]
    },
    {
      "cell_type": "code",
      "execution_count": null,
      "metadata": {
        "id": "9lX_8DE3TlO-"
      },
      "outputs": [],
      "source": [
        "def visualize_model(model, num_images=6):\n",
        "    was_training = model.training\n",
        "    model.eval()\n",
        "    images_so_far = 0\n",
        "    fig = plt.figure()\n",
        "\n",
        "    with torch.no_grad():\n",
        "        for i, (inputs, labels) in enumerate(dataloaders['val']):\n",
        "            inputs = inputs.to(device)\n",
        "            labels = labels.to(device)\n",
        "\n",
        "            outputs = model(inputs)\n",
        "            _, preds = torch.max(outputs, 1)\n",
        "\n",
        "            for j in range(inputs.size()[0]):\n",
        "                images_so_far += 1\n",
        "                ax = plt.subplot(num_images//2, 2, images_so_far)\n",
        "                ax.axis('off')\n",
        "                ax.set_title(f'predicted: {class_names[preds[j]]}')\n",
        "                imshow(inputs.cpu().data[j])\n",
        "\n",
        "                if images_so_far == num_images:\n",
        "                    model.train(mode=was_training)\n",
        "                    return\n",
        "        model.train(mode=was_training)"
      ]
    },
    {
      "cell_type": "markdown",
      "metadata": {
        "id": "g0HRMTjakel0"
      },
      "source": [
        "### ResNet18"
      ]
    },
    {
      "cell_type": "code",
      "execution_count": null,
      "metadata": {
        "id": "iSaCCT2IkiWt"
      },
      "outputs": [],
      "source": [
        "modelResnet18 = resnet18(weights=ResNet18_Weights.IMAGENET1K_V1)\n",
        "\n",
        "num_ftrs = modelResnet18.fc.in_features\n",
        "modelResnet18.fc = nn.Linear(num_ftrs, len(class_names))\n",
        "modelResnet18.to(device)\n",
        "\n",
        "modelResnet18.eval()\n",
        "\n",
        "criterion = nn.CrossEntropyLoss()\n",
        "\n",
        "optimizer_ft = optim.AdamW(modelResnet18.parameters(), lr=0.001)\n",
        "optimizer_ft = optim.AdamW(modelResnet18_gs.parameters(), lr=2e-4, weight_decay=0.015)\n",
        "\n",
        "exp_lr_scheduler = lr_scheduler.StepLR(optimizer_ft, step_size=7, gamma=0.1)"
      ]
    },
    {
      "cell_type": "code",
      "execution_count": null,
      "metadata": {
        "colab": {
          "base_uri": "https://localhost:8080/"
        },
        "id": "nBDriwjxklDi",
        "outputId": "933b4520-8d5f-4cd0-e3d3-5aa8f017470e"
      },
      "outputs": [
        {
          "name": "stdout",
          "output_type": "stream",
          "text": [
            "Epoch 0/29\n",
            "----------\n"
          ]
        },
        {
          "name": "stderr",
          "output_type": "stream",
          "text": [
            "/usr/local/lib/python3.10/dist-packages/torch/utils/data/dataloader.py:558: UserWarning: This DataLoader will create 4 worker processes in total. Our suggested max number of worker in current system is 2, which is smaller than what this DataLoader is going to create. Please be aware that excessive worker creation might get DataLoader running slow or even freeze, lower the worker number to avoid potential slowness/freeze if necessary.\n",
            "  warnings.warn(_create_warning_msg(\n"
          ]
        },
        {
          "name": "stdout",
          "output_type": "stream",
          "text": [
            "train Loss: 4.0418 Acc: 0.2316\n",
            "val Loss: 4.5930 Acc: 0.1082\n",
            "\n",
            "Epoch 1/29\n",
            "----------\n",
            "train Loss: 1.8277 Acc: 0.5440\n",
            "val Loss: 2.3402 Acc: 0.4097\n",
            "\n",
            "Epoch 2/29\n",
            "----------\n",
            "train Loss: 0.8537 Acc: 0.7723\n",
            "val Loss: 1.9816 Acc: 0.5046\n",
            "\n",
            "Epoch 3/29\n",
            "----------\n",
            "train Loss: 0.4338 Acc: 0.8857\n",
            "val Loss: 1.7092 Acc: 0.5695\n",
            "\n",
            "Epoch 4/29\n",
            "----------\n",
            "train Loss: 0.2496 Acc: 0.9346\n",
            "val Loss: 1.5282 Acc: 0.6178\n",
            "\n",
            "Epoch 5/29\n",
            "----------\n",
            "train Loss: 0.1663 Acc: 0.9554\n",
            "val Loss: 1.4965 Acc: 0.6120\n",
            "\n",
            "Epoch 6/29\n",
            "----------\n",
            "train Loss: 0.1027 Acc: 0.9753\n",
            "val Loss: 1.1857 Acc: 0.6928\n",
            "\n",
            "Epoch 7/29\n",
            "----------\n",
            "train Loss: 0.0280 Acc: 0.9968\n",
            "val Loss: 0.8020 Acc: 0.7802\n",
            "\n",
            "Epoch 8/29\n",
            "----------\n",
            "train Loss: 0.0112 Acc: 0.9999\n",
            "val Loss: 0.7634 Acc: 0.7827\n",
            "\n",
            "Epoch 9/29\n",
            "----------\n",
            "train Loss: 0.0087 Acc: 0.9999\n",
            "val Loss: 0.7216 Acc: 0.7985\n",
            "\n",
            "Epoch 10/29\n",
            "----------\n",
            "train Loss: 0.0069 Acc: 1.0000\n",
            "val Loss: 0.7048 Acc: 0.8052\n",
            "\n",
            "Epoch 11/29\n",
            "----------\n",
            "train Loss: 0.0058 Acc: 1.0000\n",
            "val Loss: 0.6906 Acc: 0.8102\n",
            "\n",
            "Epoch 12/29\n",
            "----------\n",
            "train Loss: 0.0052 Acc: 1.0000\n",
            "val Loss: 0.6800 Acc: 0.8127\n",
            "\n",
            "Epoch 13/29\n",
            "----------\n",
            "train Loss: 0.0044 Acc: 1.0000\n",
            "val Loss: 0.6923 Acc: 0.8093\n",
            "\n",
            "Epoch 14/29\n",
            "----------\n",
            "train Loss: 0.0039 Acc: 1.0000\n",
            "val Loss: 0.6807 Acc: 0.8118\n",
            "\n",
            "Epoch 15/29\n",
            "----------\n",
            "train Loss: 0.0039 Acc: 1.0000\n",
            "val Loss: 0.6689 Acc: 0.8168\n",
            "\n",
            "Epoch 16/29\n",
            "----------\n",
            "train Loss: 0.0038 Acc: 1.0000\n",
            "val Loss: 0.6853 Acc: 0.8118\n",
            "\n",
            "Epoch 17/29\n",
            "----------\n",
            "train Loss: 0.0037 Acc: 1.0000\n",
            "val Loss: 0.6780 Acc: 0.8160\n",
            "\n",
            "Epoch 18/29\n",
            "----------\n",
            "train Loss: 0.0037 Acc: 1.0000\n",
            "val Loss: 0.6772 Acc: 0.8093\n",
            "\n",
            "Epoch 19/29\n",
            "----------\n",
            "train Loss: 0.0036 Acc: 1.0000\n",
            "val Loss: 0.6744 Acc: 0.8152\n",
            "\n",
            "Epoch 20/29\n",
            "----------\n",
            "train Loss: 0.0034 Acc: 1.0000\n",
            "val Loss: 0.6641 Acc: 0.8193\n",
            "\n",
            "Epoch 21/29\n",
            "----------\n",
            "train Loss: 0.0033 Acc: 1.0000\n",
            "val Loss: 0.6731 Acc: 0.8168\n",
            "\n",
            "Epoch 22/29\n",
            "----------\n",
            "train Loss: 0.0033 Acc: 1.0000\n",
            "val Loss: 0.6762 Acc: 0.8118\n",
            "\n",
            "Epoch 23/29\n",
            "----------\n",
            "train Loss: 0.0034 Acc: 1.0000\n",
            "val Loss: 0.6864 Acc: 0.8052\n",
            "\n",
            "Epoch 24/29\n",
            "----------\n",
            "train Loss: 0.0033 Acc: 1.0000\n",
            "val Loss: 0.6667 Acc: 0.8168\n",
            "\n",
            "Epoch 25/29\n",
            "----------\n",
            "train Loss: 0.0032 Acc: 1.0000\n",
            "val Loss: 0.6730 Acc: 0.8110\n",
            "\n",
            "Epoch 26/29\n",
            "----------\n",
            "train Loss: 0.0032 Acc: 1.0000\n",
            "val Loss: 0.6753 Acc: 0.8160\n",
            "\n",
            "Epoch 27/29\n",
            "----------\n",
            "train Loss: 0.0033 Acc: 1.0000\n",
            "val Loss: 0.6660 Acc: 0.8152\n",
            "\n",
            "Epoch 28/29\n",
            "----------\n",
            "train Loss: 0.0033 Acc: 1.0000\n",
            "val Loss: 0.6808 Acc: 0.8118\n",
            "\n",
            "Epoch 29/29\n",
            "----------\n",
            "train Loss: 0.0032 Acc: 1.0000\n",
            "val Loss: 0.6877 Acc: 0.8093\n",
            "\n",
            "Training complete in 29m 23s\n",
            "Best val Acc: 0.819317\n"
          ]
        }
      ],
      "source": [
        "save_dir = '/content/drive/My Drive/Proyek_deep/Proyek/Model/'\n",
        "save_train = 'train_resnet18_market-1501.pt'\n",
        "save_best = 'best_param_resnet18_market-1501.pt'\n",
        "\n",
        "modelResnet18_gs = train_model(modelResnet18, dataloaders, criterion, optimizer_ft, exp_lr_scheduler, save_dir, save_train, save_best, num_epochs=30)"
      ]
    },
    {
      "cell_type": "code",
      "execution_count": null,
      "metadata": {
        "colab": {
          "base_uri": "https://localhost:8080/"
        },
        "id": "XOT5CP341F10",
        "outputId": "49f7b179-e986-4fad-8bd5-5575a5790363"
      },
      "outputs": [
        {
          "name": "stdout",
          "output_type": "stream",
          "text": [
            "Epoch 0/29\n",
            "----------\n",
            "train Loss: 5.9615 Acc: 0.1291\n",
            "val Loss: 5.9967 Acc: 0.0258\n",
            "\n",
            "Epoch 1/29\n",
            "----------\n",
            "train Loss: 3.1112 Acc: 0.3370\n",
            "val Loss: 3.7138 Acc: 0.2098\n",
            "\n",
            "Epoch 2/29\n",
            "----------\n",
            "train Loss: 1.3312 Acc: 0.6576\n",
            "val Loss: 1.9783 Acc: 0.4838\n",
            "\n",
            "Epoch 3/29\n",
            "----------\n",
            "train Loss: 0.6629 Acc: 0.8213\n",
            "val Loss: 1.7956 Acc: 0.5237\n",
            "\n",
            "Epoch 4/29\n",
            "----------\n",
            "train Loss: 0.3409 Acc: 0.9100\n",
            "val Loss: 1.5963 Acc: 0.5953\n",
            "\n",
            "Epoch 5/29\n",
            "----------\n",
            "train Loss: 0.1909 Acc: 0.9516\n",
            "val Loss: 1.2680 Acc: 0.6619\n",
            "\n",
            "Epoch 6/29\n",
            "----------\n",
            "train Loss: 0.1236 Acc: 0.9701\n",
            "val Loss: 1.4930 Acc: 0.6586\n",
            "\n",
            "Epoch 7/29\n",
            "----------\n",
            "train Loss: 0.0426 Acc: 0.9928\n",
            "val Loss: 0.7940 Acc: 0.7893\n",
            "\n",
            "Epoch 8/29\n",
            "----------\n",
            "train Loss: 0.0148 Acc: 0.9997\n",
            "val Loss: 0.7490 Acc: 0.8093\n",
            "\n",
            "Epoch 9/29\n",
            "----------\n",
            "train Loss: 0.0110 Acc: 0.9998\n",
            "val Loss: 0.7115 Acc: 0.8160\n",
            "\n",
            "Epoch 10/29\n",
            "----------\n",
            "train Loss: 0.0088 Acc: 1.0000\n",
            "val Loss: 0.7057 Acc: 0.8127\n",
            "\n",
            "Epoch 11/29\n",
            "----------\n",
            "train Loss: 0.0076 Acc: 1.0000\n",
            "val Loss: 0.6883 Acc: 0.8185\n",
            "\n",
            "Epoch 12/29\n",
            "----------\n",
            "train Loss: 0.0062 Acc: 1.0000\n",
            "val Loss: 0.6924 Acc: 0.8251\n",
            "\n",
            "Epoch 13/29\n",
            "----------\n",
            "train Loss: 0.0055 Acc: 1.0000\n",
            "val Loss: 0.6996 Acc: 0.8251\n",
            "\n",
            "Epoch 14/29\n",
            "----------\n",
            "train Loss: 0.0049 Acc: 1.0000\n",
            "val Loss: 0.6888 Acc: 0.8268\n",
            "\n",
            "Epoch 15/29\n",
            "----------\n",
            "train Loss: 0.0048 Acc: 1.0000\n",
            "val Loss: 0.6903 Acc: 0.8235\n",
            "\n",
            "Epoch 16/29\n",
            "----------\n",
            "train Loss: 0.0047 Acc: 1.0000\n",
            "val Loss: 0.6839 Acc: 0.8251\n",
            "\n",
            "Epoch 17/29\n",
            "----------\n",
            "train Loss: 0.0046 Acc: 1.0000\n",
            "val Loss: 0.6804 Acc: 0.8268\n",
            "\n",
            "Epoch 18/29\n",
            "----------\n",
            "train Loss: 0.0045 Acc: 1.0000\n",
            "val Loss: 0.6892 Acc: 0.8235\n",
            "\n",
            "Epoch 19/29\n",
            "----------\n",
            "train Loss: 0.0043 Acc: 1.0000\n",
            "val Loss: 0.6781 Acc: 0.8243\n",
            "\n",
            "Epoch 20/29\n",
            "----------\n",
            "train Loss: 0.0042 Acc: 1.0000\n",
            "val Loss: 0.6789 Acc: 0.8285\n",
            "\n",
            "Epoch 21/29\n",
            "----------\n",
            "train Loss: 0.0042 Acc: 1.0000\n",
            "val Loss: 0.6823 Acc: 0.8243\n",
            "\n",
            "Epoch 22/29\n",
            "----------\n",
            "train Loss: 0.0041 Acc: 1.0000\n",
            "val Loss: 0.6790 Acc: 0.8285\n",
            "\n",
            "Epoch 23/29\n",
            "----------\n",
            "train Loss: 0.0040 Acc: 1.0000\n",
            "val Loss: 0.6767 Acc: 0.8276\n",
            "\n",
            "Epoch 24/29\n",
            "----------\n",
            "train Loss: 0.0039 Acc: 1.0000\n",
            "val Loss: 0.6802 Acc: 0.8285\n",
            "\n",
            "Epoch 25/29\n",
            "----------\n",
            "train Loss: 0.0039 Acc: 1.0000\n",
            "val Loss: 0.6784 Acc: 0.8276\n",
            "\n",
            "Epoch 26/29\n",
            "----------\n",
            "train Loss: 0.0039 Acc: 1.0000\n",
            "val Loss: 0.6809 Acc: 0.8260\n",
            "\n",
            "Epoch 27/29\n",
            "----------\n",
            "train Loss: 0.0039 Acc: 1.0000\n",
            "val Loss: 0.6846 Acc: 0.8243\n",
            "\n",
            "Epoch 28/29\n",
            "----------\n",
            "train Loss: 0.0039 Acc: 1.0000\n",
            "val Loss: 0.6882 Acc: 0.8226\n",
            "\n",
            "Epoch 29/29\n",
            "----------\n",
            "train Loss: 0.0039 Acc: 1.0000\n",
            "val Loss: 0.6694 Acc: 0.8260\n",
            "\n",
            "Training complete in 39m 56s\n",
            "Best val Acc: 0.828476\n"
          ]
        }
      ],
      "source": [
        "# File for checkpoints\n",
        "save_dir = '/content/drive/My Drive/Proyek_deep/Proyek/Model/'\n",
        "save_train = 'train_resnet18_market-1501_no_gs.pt'\n",
        "save_best = 'best_param_resnet18_market-1501_no_gs.pt'\n",
        "\n",
        "modelResnet18_nogs = train_model_no_gs(modelResnet18, dataloaders, criterion, optimizer_ft, exp_lr_scheduler, save_dir, save_train, save_best, num_epochs=30)"
      ]
    },
    {
      "cell_type": "code",
      "execution_count": null,
      "metadata": {
        "id": "1HJa4R5ckm-f"
      },
      "outputs": [],
      "source": [
        "visualize_model(modelResnet18)"
      ]
    },
    {
      "cell_type": "markdown",
      "metadata": {
        "id": "L4FOAqs2kgHU"
      },
      "source": [
        "### ResNet34"
      ]
    },
    {
      "cell_type": "code",
      "execution_count": null,
      "metadata": {
        "id": "gxYoJ537kocC"
      },
      "outputs": [],
      "source": [
        "modelResnet34 = resnet34(weights=ResNet34_Weights.IMAGENET1K_V1)\n",
        "\n",
        "num_ftrs = modelResnet34.fc.in_features\n",
        "modelResnet34.fc = nn.Linear(num_ftrs, len(class_names))\n",
        "modelResnet34.to(device)\n",
        "\n",
        "modelResnet34.eval()\n",
        "\n",
        "criterion = nn.CrossEntropyLoss()\n",
        "\n",
        "# optimizer_ft = optim.AdamW(modelResnet34.parameters(), lr=0.001)\n",
        "optimizer_ft = optim.AdamW(modelResnet18_gs.parameters(), lr=2e-4, weight_decay=0.015)\n",
        "\n",
        "exp_lr_scheduler = lr_scheduler.StepLR(optimizer_ft, step_size=7, gamma=0.1)"
      ]
    },
    {
      "cell_type": "code",
      "execution_count": null,
      "metadata": {
        "colab": {
          "base_uri": "https://localhost:8080/"
        },
        "id": "qYCB76lNkqIK",
        "outputId": "7c3f68c5-8e14-4b5a-bb11-c6c42a658089"
      },
      "outputs": [
        {
          "name": "stdout",
          "output_type": "stream",
          "text": [
            "Epoch 0/29\n",
            "----------\n"
          ]
        },
        {
          "name": "stderr",
          "output_type": "stream",
          "text": [
            "/usr/local/lib/python3.10/dist-packages/torch/utils/data/dataloader.py:558: UserWarning: This DataLoader will create 4 worker processes in total. Our suggested max number of worker in current system is 2, which is smaller than what this DataLoader is going to create. Please be aware that excessive worker creation might get DataLoader running slow or even freeze, lower the worker number to avoid potential slowness/freeze if necessary.\n",
            "  warnings.warn(_create_warning_msg(\n"
          ]
        },
        {
          "name": "stdout",
          "output_type": "stream",
          "text": [
            "train Loss: 6.2835 Acc: 0.1240\n",
            "val Loss: 7.0443 Acc: 0.0025\n",
            "\n",
            "Epoch 1/29\n",
            "----------\n",
            "train Loss: 4.3111 Acc: 0.1937\n",
            "val Loss: 4.3883 Acc: 0.1174\n",
            "\n",
            "Epoch 2/29\n",
            "----------\n",
            "train Loss: 2.2963 Acc: 0.4403\n",
            "val Loss: 3.9101 Acc: 0.2323\n",
            "\n",
            "Epoch 3/29\n",
            "----------\n",
            "train Loss: 1.2515 Acc: 0.6614\n",
            "val Loss: 2.8800 Acc: 0.3672\n",
            "\n",
            "Epoch 4/29\n",
            "----------\n",
            "train Loss: 0.7249 Acc: 0.7955\n",
            "val Loss: 2.2779 Acc: 0.4713\n",
            "\n",
            "Epoch 5/29\n",
            "----------\n",
            "train Loss: 0.4293 Acc: 0.8768\n",
            "val Loss: 1.6667 Acc: 0.5970\n",
            "\n",
            "Epoch 6/29\n",
            "----------\n",
            "train Loss: 0.2767 Acc: 0.9208\n",
            "val Loss: 1.5473 Acc: 0.6378\n",
            "\n",
            "Epoch 7/29\n",
            "----------\n",
            "train Loss: 0.0940 Acc: 0.9794\n",
            "val Loss: 0.9236 Acc: 0.7610\n",
            "\n",
            "Epoch 8/29\n",
            "----------\n",
            "train Loss: 0.0416 Acc: 0.9950\n",
            "val Loss: 0.8633 Acc: 0.7727\n",
            "\n",
            "Epoch 9/29\n",
            "----------\n",
            "train Loss: 0.0295 Acc: 0.9977\n",
            "val Loss: 0.8131 Acc: 0.7902\n",
            "\n",
            "Epoch 10/29\n",
            "----------\n",
            "train Loss: 0.0232 Acc: 0.9986\n",
            "val Loss: 0.8118 Acc: 0.7985\n",
            "\n",
            "Epoch 11/29\n",
            "----------\n",
            "train Loss: 0.0184 Acc: 0.9994\n",
            "val Loss: 0.8110 Acc: 0.7985\n",
            "\n",
            "Epoch 12/29\n",
            "----------\n",
            "train Loss: 0.0151 Acc: 0.9997\n",
            "val Loss: 0.7738 Acc: 0.8093\n",
            "\n",
            "Epoch 13/29\n",
            "----------\n",
            "train Loss: 0.0124 Acc: 0.9997\n",
            "val Loss: 0.8046 Acc: 0.8068\n",
            "\n",
            "Epoch 14/29\n",
            "----------\n",
            "train Loss: 0.0101 Acc: 1.0000\n",
            "val Loss: 0.7949 Acc: 0.7977\n",
            "\n",
            "Epoch 15/29\n",
            "----------\n",
            "train Loss: 0.0096 Acc: 0.9999\n",
            "val Loss: 0.7866 Acc: 0.7993\n",
            "\n",
            "Epoch 16/29\n",
            "----------\n",
            "train Loss: 0.0094 Acc: 1.0000\n",
            "val Loss: 0.7953 Acc: 0.8010\n",
            "\n",
            "Epoch 17/29\n",
            "----------\n",
            "train Loss: 0.0090 Acc: 1.0000\n",
            "val Loss: 0.7821 Acc: 0.8135\n",
            "\n",
            "Epoch 18/29\n",
            "----------\n",
            "train Loss: 0.0090 Acc: 0.9999\n",
            "val Loss: 0.7907 Acc: 0.8010\n",
            "\n",
            "Epoch 19/29\n",
            "----------\n",
            "train Loss: 0.0085 Acc: 1.0000\n",
            "val Loss: 0.7801 Acc: 0.8052\n",
            "\n",
            "Epoch 20/29\n",
            "----------\n",
            "train Loss: 0.0079 Acc: 1.0000\n",
            "val Loss: 0.8092 Acc: 0.7935\n",
            "\n",
            "Epoch 21/29\n",
            "----------\n",
            "train Loss: 0.0077 Acc: 1.0000\n",
            "val Loss: 0.7848 Acc: 0.8077\n",
            "\n",
            "Epoch 22/29\n",
            "----------\n",
            "train Loss: 0.0079 Acc: 1.0000\n",
            "val Loss: 0.8099 Acc: 0.8018\n",
            "\n",
            "Epoch 23/29\n",
            "----------\n",
            "train Loss: 0.0077 Acc: 1.0000\n",
            "val Loss: 0.7741 Acc: 0.8052\n",
            "\n",
            "Epoch 24/29\n",
            "----------\n",
            "train Loss: 0.0079 Acc: 1.0000\n",
            "val Loss: 0.8173 Acc: 0.7977\n",
            "\n",
            "Epoch 25/29\n",
            "----------\n",
            "train Loss: 0.0077 Acc: 1.0000\n",
            "val Loss: 0.8030 Acc: 0.8035\n",
            "\n",
            "Epoch 26/29\n",
            "----------\n",
            "train Loss: 0.0075 Acc: 1.0000\n",
            "val Loss: 0.7745 Acc: 0.8102\n",
            "\n",
            "Epoch 27/29\n",
            "----------\n",
            "train Loss: 0.0076 Acc: 1.0000\n",
            "val Loss: 0.7844 Acc: 0.8027\n",
            "\n",
            "Epoch 28/29\n",
            "----------\n",
            "train Loss: 0.0075 Acc: 1.0000\n",
            "val Loss: 0.7819 Acc: 0.8085\n",
            "\n",
            "Epoch 29/29\n",
            "----------\n",
            "train Loss: 0.0074 Acc: 1.0000\n",
            "val Loss: 0.8055 Acc: 0.8027\n",
            "\n",
            "Training complete in 35m 55s\n",
            "Best val Acc: 0.813489\n"
          ]
        }
      ],
      "source": [
        "save_dir = '/content/drive/My Drive/Proyek_deep/Proyek/Model/'\n",
        "save_train = 'train_resnet34_market-1501.pt'\n",
        "save_best = 'best_param_resnet34_market-1501.pt'\n",
        "\n",
        "modelResnet34_gs = train_model(modelResnet34, dataloaders, criterion, optimizer_ft, exp_lr_scheduler, save_dir, save_train, save_best, num_epochs=30)"
      ]
    },
    {
      "cell_type": "code",
      "execution_count": null,
      "metadata": {
        "colab": {
          "base_uri": "https://localhost:8080/"
        },
        "id": "f-c0QJbOOslM",
        "outputId": "5ff4796b-74e1-4821-c83e-4d7f97ad403e"
      },
      "outputs": [
        {
          "name": "stdout",
          "output_type": "stream",
          "text": [
            "Epoch 0/29\n",
            "----------\n",
            "train Loss: 6.3543 Acc: 0.1226\n",
            "val Loss: 7.3694 Acc: 0.0042\n",
            "\n",
            "Epoch 1/29\n",
            "----------\n",
            "train Loss: 4.8731 Acc: 0.1608\n",
            "val Loss: 4.9081 Acc: 0.0699\n",
            "\n",
            "Epoch 2/29\n",
            "----------\n",
            "train Loss: 2.6941 Acc: 0.3703\n",
            "val Loss: 3.7396 Acc: 0.2148\n",
            "\n",
            "Epoch 3/29\n",
            "----------\n",
            "train Loss: 1.4739 Acc: 0.6054\n",
            "val Loss: 2.2482 Acc: 0.4346\n",
            "\n",
            "Epoch 4/29\n",
            "----------\n",
            "train Loss: 0.8440 Acc: 0.7661\n",
            "val Loss: 1.9806 Acc: 0.4996\n",
            "\n",
            "Epoch 5/29\n",
            "----------\n",
            "train Loss: 0.5234 Acc: 0.8482\n",
            "val Loss: 1.6349 Acc: 0.5828\n",
            "\n",
            "Epoch 6/29\n",
            "----------\n",
            "train Loss: 0.3383 Acc: 0.9018\n",
            "val Loss: 1.6086 Acc: 0.6037\n",
            "\n",
            "Epoch 7/29\n",
            "----------\n",
            "train Loss: 0.1084 Acc: 0.9761\n",
            "val Loss: 0.8816 Acc: 0.7585\n",
            "\n",
            "Epoch 8/29\n",
            "----------\n",
            "train Loss: 0.0552 Acc: 0.9928\n",
            "val Loss: 0.8530 Acc: 0.7660\n",
            "\n",
            "Epoch 9/29\n",
            "----------\n",
            "train Loss: 0.0405 Acc: 0.9964\n",
            "val Loss: 0.8075 Acc: 0.7860\n",
            "\n",
            "Epoch 10/29\n",
            "----------\n",
            "train Loss: 0.0333 Acc: 0.9976\n",
            "val Loss: 0.8055 Acc: 0.7902\n",
            "\n",
            "Epoch 11/29\n",
            "----------\n",
            "train Loss: 0.0258 Acc: 0.9988\n",
            "val Loss: 0.7779 Acc: 0.7927\n",
            "\n",
            "Epoch 12/29\n",
            "----------\n",
            "train Loss: 0.0211 Acc: 0.9992\n",
            "val Loss: 0.7908 Acc: 0.7952\n",
            "\n",
            "Epoch 13/29\n",
            "----------\n",
            "train Loss: 0.0170 Acc: 0.9996\n",
            "val Loss: 0.8141 Acc: 0.7860\n",
            "\n",
            "Epoch 14/29\n",
            "----------\n",
            "train Loss: 0.0141 Acc: 0.9999\n",
            "val Loss: 0.7829 Acc: 0.7960\n",
            "\n",
            "Epoch 15/29\n",
            "----------\n",
            "train Loss: 0.0127 Acc: 1.0000\n",
            "val Loss: 0.7855 Acc: 0.7985\n",
            "\n",
            "Epoch 16/29\n",
            "----------\n",
            "train Loss: 0.0127 Acc: 0.9999\n",
            "val Loss: 0.7952 Acc: 0.7935\n",
            "\n",
            "Epoch 17/29\n",
            "----------\n",
            "train Loss: 0.0121 Acc: 0.9999\n",
            "val Loss: 0.8197 Acc: 0.7852\n",
            "\n",
            "Epoch 18/29\n",
            "----------\n",
            "train Loss: 0.0115 Acc: 1.0000\n",
            "val Loss: 0.7853 Acc: 0.7927\n",
            "\n",
            "Epoch 19/29\n",
            "----------\n",
            "train Loss: 0.0116 Acc: 1.0000\n",
            "val Loss: 0.7832 Acc: 0.7902\n",
            "\n",
            "Epoch 20/29\n",
            "----------\n",
            "train Loss: 0.0108 Acc: 1.0000\n",
            "val Loss: 0.7686 Acc: 0.8002\n",
            "\n",
            "Epoch 21/29\n",
            "----------\n",
            "train Loss: 0.0104 Acc: 1.0000\n",
            "val Loss: 0.7811 Acc: 0.7943\n",
            "\n",
            "Epoch 22/29\n",
            "----------\n",
            "train Loss: 0.0103 Acc: 1.0000\n",
            "val Loss: 0.7956 Acc: 0.7877\n",
            "\n",
            "Epoch 23/29\n",
            "----------\n",
            "train Loss: 0.0106 Acc: 1.0000\n",
            "val Loss: 0.7674 Acc: 0.7985\n",
            "\n",
            "Epoch 24/29\n",
            "----------\n",
            "train Loss: 0.0100 Acc: 1.0000\n",
            "val Loss: 0.7773 Acc: 0.8010\n",
            "\n",
            "Epoch 25/29\n",
            "----------\n",
            "train Loss: 0.0102 Acc: 1.0000\n",
            "val Loss: 0.7741 Acc: 0.8018\n",
            "\n",
            "Epoch 26/29\n",
            "----------\n",
            "train Loss: 0.0102 Acc: 0.9999\n",
            "val Loss: 0.7908 Acc: 0.7968\n",
            "\n",
            "Epoch 27/29\n",
            "----------\n",
            "train Loss: 0.0102 Acc: 1.0000\n",
            "val Loss: 0.7780 Acc: 0.7902\n",
            "\n",
            "Epoch 28/29\n",
            "----------\n",
            "train Loss: 0.0099 Acc: 1.0000\n",
            "val Loss: 0.8029 Acc: 0.7927\n",
            "\n",
            "Epoch 29/29\n",
            "----------\n",
            "train Loss: 0.0102 Acc: 1.0000\n",
            "val Loss: 0.7754 Acc: 0.7968\n",
            "\n",
            "Training complete in 59m 12s\n",
            "Best val Acc: 0.801832\n"
          ]
        }
      ],
      "source": [
        "# File for checkpoints\n",
        "save_dir = '/content/drive/My Drive/Proyek_deep/Proyek/Model/'\n",
        "save_train = 'train_resnet34_market-1501_no_gs.pt'\n",
        "save_best = 'best_param_resnet34_market-1501_no_gs.pt'\n",
        "\n",
        "modelResnet34_nogs = train_model_no_gs(modelResnet34, dataloaders, criterion, optimizer_ft, exp_lr_scheduler, save_dir, save_train, save_best, num_epochs=30)"
      ]
    },
    {
      "cell_type": "code",
      "execution_count": null,
      "metadata": {
        "id": "LiytYkOVkrq8"
      },
      "outputs": [],
      "source": [
        "visualize_model(modelResnet34)"
      ]
    },
    {
      "cell_type": "markdown",
      "metadata": {
        "id": "IC689H2lkhVe"
      },
      "source": [
        "### ResNet50"
      ]
    },
    {
      "cell_type": "code",
      "execution_count": null,
      "metadata": {
        "id": "W9zoD1L1ktTJ"
      },
      "outputs": [],
      "source": [
        "modelResnet50 = resnet50(weights=ResNet50_Weights.IMAGENET1K_V1)\n",
        "\n",
        "num_ftrs = modelResnet50.fc.in_features\n",
        "modelResnet50.fc = nn.Linear(num_ftrs, len(class_names))\n",
        "modelResnet50.to(device)\n",
        "\n",
        "modelResnet50.eval()\n",
        "\n",
        "criterion = nn.CrossEntropyLoss()\n",
        "\n",
        "# Observe that all parameters are being optimized\n",
        "# optimizer_ft = optim.AdamW(modelResnet18_gs.parameters(), lr=0.001)\n",
        "optimizer_ft = optim.AdamW(modelResnet18_gs.parameters(), lr=2e-4, weight_decay=0.015)\n",
        "\n",
        "# Decay LR by a factor of 0.1 every 7 epochs\n",
        "exp_lr_scheduler = lr_scheduler.StepLR(optimizer_ft, step_size=7, gamma=0.1)"
      ]
    },
    {
      "cell_type": "code",
      "execution_count": null,
      "metadata": {
        "id": "TeBGM0Oikuxf"
      },
      "outputs": [],
      "source": [
        "modelResnet50 = train_model(modelResnet50, dataloaders, criterion, optimizer_ft, exp_lr_scheduler,\n",
        "                       num_epochs=1)"
      ]
    },
    {
      "cell_type": "code",
      "execution_count": null,
      "metadata": {
        "id": "0aP93ZHtkwGR"
      },
      "outputs": [],
      "source": [
        "visualize_model(modelResnet50)"
      ]
    },
    {
      "cell_type": "markdown",
      "metadata": {
        "id": "ozhGBo7OkZVE"
      },
      "source": [
        "### ResNext50_32x4d"
      ]
    },
    {
      "cell_type": "code",
      "execution_count": null,
      "metadata": {
        "colab": {
          "base_uri": "https://localhost:8080/"
        },
        "id": "OjnU2nbXTtug",
        "outputId": "3bfb1bfc-c33e-4d67-c04c-e35a3251ea34"
      },
      "outputs": [
        {
          "name": "stderr",
          "output_type": "stream",
          "text": [
            "Downloading: \"https://download.pytorch.org/models/resnext50_32x4d-7cdf4587.pth\" to /root/.cache/torch/hub/checkpoints/resnext50_32x4d-7cdf4587.pth\n",
            "100%|██████████| 95.8M/95.8M [00:00<00:00, 135MB/s]\n"
          ]
        }
      ],
      "source": [
        "modelResnext = resnext50_32x4d(weights=ResNeXt50_32X4D_Weights.IMAGENET1K_V1)\n",
        "\n",
        "num_ftrs = modelResnext.fc.in_features\n",
        "modelResnext.fc = nn.Linear(num_ftrs, len(class_names))\n",
        "modelResnext.to(device)\n",
        "\n",
        "modelResnext.eval()\n",
        "\n",
        "criterion = nn.CrossEntropyLoss()\n",
        "\n",
        "# Observe that all parameters are being optimized\n",
        "# optimizer_ft = optim.AdamW(modelResnext.parameters(), lr=0.001)\n",
        "optimizer_ft = optim.AdamW(modelResnet18_gs.parameters(), lr=2e-4, weight_decay=0.015)\n",
        "\n",
        "# Decay LR by a factor of 0.1 every 7 epochs\n",
        "exp_lr_scheduler = lr_scheduler.StepLR(optimizer_ft, step_size=7, gamma=0.1)"
      ]
    },
    {
      "cell_type": "code",
      "execution_count": null,
      "metadata": {
        "colab": {
          "base_uri": "https://localhost:8080/"
        },
        "id": "OPvynwVOT32o",
        "outputId": "31e4f7fc-a272-4044-e164-5df85de511d6"
      },
      "outputs": [
        {
          "name": "stdout",
          "output_type": "stream",
          "text": [
            "Epoch 0/0\n",
            "----------\n",
            "train Loss: 6.4431 Acc: 0.0194\n",
            "val Loss: 6.6005 Acc: 0.0146\n",
            "\n",
            "Training complete in 143m 30s\n",
            "Best val Acc: 0.014647\n"
          ]
        }
      ],
      "source": [
        "# File for checkpoints\n",
        "save_dir = '/content/drive/My Drive/Semester 6/Deep/Proyek/Model/'\n",
        "save_train = 'train_resnext_market1501.pt'\n",
        "save_best = 'best_param_resnext_market1501.pt'\n",
        "\n",
        "modelResnext_gs = train_model(modelResnext, dataloaders, criterion, optimizer_ft, exp_lr_scheduler, save_dir, save_train, save_best, num_epochs=30)"
      ]
    },
    {
      "cell_type": "code",
      "execution_count": null,
      "metadata": {
        "colab": {
          "base_uri": "https://localhost:8080/"
        },
        "id": "JZ7s_lNDLwh0",
        "outputId": "4f7f5072-0c34-4fd5-a00e-5989a2a2cddb"
      },
      "outputs": [
        {
          "name": "stdout",
          "output_type": "stream",
          "text": [
            "Epoch 0/29\n",
            "----------\n",
            "train Loss: 6.5028 Acc: 0.0088\n",
            "val Loss: 6.4351 Acc: 0.0053\n",
            "\n",
            "Epoch 1/29\n",
            "----------\n",
            "train Loss: 5.4733 Acc: 0.0344\n",
            "val Loss: 5.6590 Acc: 0.0200\n",
            "\n",
            "Epoch 2/29\n",
            "----------\n",
            "train Loss: 4.1296 Acc: 0.1405\n",
            "val Loss: 4.6072 Acc: 0.1225\n",
            "\n",
            "Epoch 3/29\n",
            "----------\n",
            "train Loss: 2.8005 Acc: 0.3246\n",
            "val Loss: 3.9838 Acc: 0.1838\n",
            "\n",
            "Epoch 4/29\n",
            "----------\n",
            "train Loss: 1.8905 Acc: 0.4939\n",
            "val Loss: 3.1372 Acc: 0.3009\n",
            "\n",
            "Epoch 5/29\n",
            "----------\n",
            "train Loss: 1.2498 Acc: 0.6511\n",
            "val Loss: 2.3939 Acc: 0.4487\n",
            "\n",
            "Epoch 6/29\n",
            "----------\n",
            "train Loss: 0.8436 Acc: 0.7565\n",
            "val Loss: 2.1991 Acc: 0.5073\n",
            "\n",
            "Epoch 7/29\n",
            "----------\n",
            "train Loss: 0.3411 Acc: 0.9156\n",
            "val Loss: 1.3237 Acc: 0.6751\n",
            "\n",
            "Epoch 8/29\n",
            "----------\n",
            "train Loss: 0.2062 Acc: 0.9608\n",
            "val Loss: 1.1665 Acc: 0.7190\n",
            "\n",
            "Epoch 9/29\n",
            "----------\n",
            "train Loss: 0.1600 Acc: 0.9745\n",
            "val Loss: 1.1744 Acc: 0.7190\n",
            "\n",
            "Epoch 10/29\n",
            "----------\n",
            "train Loss: 0.1338 Acc: 0.9791\n",
            "val Loss: 1.1635 Acc: 0.7244\n",
            "\n",
            "Epoch 11/29\n",
            "----------\n",
            "train Loss: 0.1078 Acc: 0.9869\n",
            "val Loss: 1.1395 Acc: 0.7164\n",
            "\n",
            "Epoch 12/29\n",
            "----------\n",
            "train Loss: 0.0905 Acc: 0.9910\n",
            "val Loss: 1.1272 Acc: 0.7230\n",
            "\n",
            "Epoch 13/29\n",
            "----------\n",
            "train Loss: 0.0750 Acc: 0.9938\n",
            "val Loss: 1.1186 Acc: 0.7230\n",
            "\n",
            "Epoch 14/29\n",
            "----------\n",
            "train Loss: 0.0574 Acc: 0.9978\n",
            "val Loss: 1.1219 Acc: 0.7324\n",
            "\n",
            "Epoch 15/29\n",
            "----------\n",
            "train Loss: 0.0569 Acc: 0.9975\n",
            "val Loss: 1.0991 Acc: 0.7403\n",
            "\n",
            "Epoch 16/29\n",
            "----------\n",
            "train Loss: 0.0529 Acc: 0.9984\n",
            "val Loss: 1.0964 Acc: 0.7297\n",
            "\n",
            "Epoch 17/29\n",
            "----------\n",
            "train Loss: 0.0523 Acc: 0.9989\n",
            "val Loss: 1.1400 Acc: 0.7377\n",
            "\n",
            "Epoch 18/29\n",
            "----------\n",
            "train Loss: 0.0510 Acc: 0.9985\n",
            "val Loss: 1.0695 Acc: 0.7430\n",
            "\n",
            "Epoch 19/29\n",
            "----------\n",
            "train Loss: 0.0488 Acc: 0.9984\n",
            "val Loss: 1.1695 Acc: 0.7337\n",
            "\n",
            "Epoch 20/29\n",
            "----------\n",
            "train Loss: 0.0472 Acc: 0.9988\n",
            "val Loss: 1.1360 Acc: 0.7350\n",
            "\n",
            "Epoch 21/29\n",
            "----------\n",
            "train Loss: 0.0433 Acc: 0.9991\n",
            "val Loss: 1.1339 Acc: 0.7270\n",
            "\n",
            "Epoch 22/29\n",
            "----------\n",
            "train Loss: 0.0450 Acc: 0.9990\n",
            "val Loss: 1.0986 Acc: 0.7390\n",
            "\n",
            "Epoch 23/29\n",
            "----------\n",
            "train Loss: 0.0436 Acc: 0.9991\n",
            "val Loss: 1.1751 Acc: 0.7297\n",
            "\n",
            "Epoch 24/29\n",
            "----------\n"
          ]
        }
      ],
      "source": [
        "# File for checkpoints\n",
        "save_dir = '/content/drive/My Drive/Semester 6/Deep/Proyek/Model/'\n",
        "save_train = 'train_resnext_market-1501_no_gs.pt'\n",
        "save_best = 'best_param_resnext_market-1501_no_gs.pt'\n",
        "\n",
        "modelResnext_nogs = train_model_no_gs(modelResnext, dataloaders, criterion, optimizer_ft, exp_lr_scheduler, save_dir, save_train, save_best, num_epochs=30)"
      ]
    },
    {
      "cell_type": "code",
      "execution_count": null,
      "metadata": {
        "colab": {
          "base_uri": "https://localhost:8080/",
          "height": 979
        },
        "id": "Piom1vaT9MYh",
        "outputId": "ccfb3114-1b34-4a52-d17f-72d3f1374e10"
      },
      "outputs": [
        {
          "name": "stderr",
          "output_type": "stream",
          "text": [
            "/usr/local/lib/python3.10/dist-packages/torch/utils/data/dataloader.py:558: UserWarning: This DataLoader will create 8 worker processes in total. Our suggested max number of worker in current system is 2, which is smaller than what this DataLoader is going to create. Please be aware that excessive worker creation might get DataLoader running slow or even freeze, lower the worker number to avoid potential slowness/freeze if necessary.\n",
            "  warnings.warn(_create_warning_msg(\n"
          ]
        },
        {
          "data": {
            "image/png": "[encoded data removed]",
            "text/plain": [
              "<Figure size 640x480 with 1 Axes>"
            ]
          },
          "metadata": {},
          "output_type": "display_data"
        },
        {
          "data": {
            "image/png": "[encoded data removed]",
            "text/plain": [
              "<Figure size 640x480 with 1 Axes>"
            ]
          },
          "metadata": {},
          "output_type": "display_data"
        },
        {
          "data": {
            "image/png": "[encoded data removed]",
            "text/plain": [
              "<Figure size 640x480 with 1 Axes>"
            ]
          },
          "metadata": {},
          "output_type": "display_data"
        },
        {
          "data": {
            "image/png": "[encoded data removed]",
            "text/plain": [
              "<Figure size 640x480 with 1 Axes>"
            ]
          },
          "metadata": {},
          "output_type": "display_data"
        },
        {
          "data": {
            "image/png": "[encoded data removed]",
            "text/plain": [
              "<Figure size 640x480 with 1 Axes>"
            ]
          },
          "metadata": {},
          "output_type": "display_data"
        },
        {
          "data": {
            "image/png": "[encoded data removed]",
            "text/plain": [
              "<Figure size 640x480 with 1 Axes>"
            ]
          },
          "metadata": {},
          "output_type": "display_data"
        }
      ],
      "source": [
        "visualize_model(modelResnext)"
      ]
    },
    {
      "cell_type": "markdown",
      "metadata": {
        "id": "6xkE0SMk_Ixy"
      },
      "source": [
        "# Testing"
      ]
    },
    {
      "cell_type": "markdown",
      "metadata": {
        "id": "UIjH_RTJPKL3"
      },
      "source": [
        "### Prepare"
      ]
    },
    {
      "cell_type": "code",
      "execution_count": null,
      "metadata": {
        "colab": {
          "base_uri": "https://localhost:8080/"
        },
        "id": "PRvSIlbr9QCe",
        "outputId": "8725f8ac-82be-48d4-9eb4-22bac2641619"
      },
      "outputs": [
        {
          "name": "stdout",
          "output_type": "stream",
          "text": [
            "301\n"
          ]
        }
      ],
      "source": [
        "transform_test_list = [\n",
        "    transforms.Resize(size=(h, w), interpolation=3),\n",
        "    transforms.ToTensor(),\n",
        "    transforms.Normalize([0.485, 0.456, 0.406], [0.229, 0.224, 0.225])\n",
        "]\n",
        "\n",
        "data_transforms = {\n",
        "    'gallery': transforms.Compose(transform_test_list),\n",
        "    'query': transforms.Compose(transform_test_list),\n",
        "}\n",
        "\n",
        "image_datasets = {}\n",
        "image_datasets['gallery'] = datasets.ImageFolder(os.path.join(data_dir, 'gallery'),\n",
        "                                               data_transforms['gallery'])\n",
        "image_datasets['query'] = datasets.ImageFolder(os.path.join(data_dir, 'query'),\n",
        "                                             data_transforms['query'])\n",
        "\n",
        "dataloaders_test = {x: torch.utils.data.DataLoader(image_datasets[x], batch_size=batchsize, shuffle=True, num_workers=2, pin_memory=True)\n",
        "               for x in ['gallery', 'query']}\n",
        "\n",
        "dataset_test_sizes = {x: len(image_datasets[x]) for x in ['gallery', 'query']}\n",
        "test_class_names = image_datasets['gallery'].classes\n",
        "print(len(test_class_names))"
      ]
    },
    {
      "cell_type": "code",
      "execution_count": null,
      "metadata": {
        "id": "7rg73Eka_f9t"
      },
      "outputs": [],
      "source": [
        "def process_in_batches(loader, model, device, batch_size=32):\n",
        "    features = []\n",
        "    labels = []\n",
        "    with torch.no_grad():\n",
        "        for imgs, lbls in loader:\n",
        "            imgs = imgs.to(device)\n",
        "            lbls = lbls.to(device)\n",
        "            batch_features = []\n",
        "            batch_labels = []\n",
        "            for i in range(0, len(imgs), batch_size):\n",
        "                batch_imgs = imgs[i:i+batch_size]\n",
        "                batch_lbls = lbls[i:i+batch_size]\n",
        "                batch_outputs = model(batch_imgs)\n",
        "                batch_features.append(batch_outputs.cpu().numpy())\n",
        "                batch_labels.append(batch_lbls.cpu().numpy())\n",
        "            features.append(np.concatenate(batch_features))\n",
        "            labels.append(np.concatenate(batch_labels))\n",
        "    return np.concatenate(features), np.concatenate(labels)"
      ]
    },
    {
      "cell_type": "code",
      "execution_count": null,
      "metadata": {
        "id": "m5Mp50x7Tdw4"
      },
      "outputs": [],
      "source": [
        "def compute_mAP_and_CMC(dist_matrix, query_labels, gallery_labels, query_cams, gallery_cams, max_rank=10):\n",
        "  num_q, num_g = dist_matrix.shape\n",
        "\n",
        "  indices = np.argsort(dist_matrix, axis=1)\n",
        "  all_cmc = []\n",
        "  all_AP = []\n",
        "  all_INP = []\n",
        "  num_valid_q = 0\n",
        "\n",
        "  gallery_labels = np.array(gallery_labels)\n",
        "  gallery_cams = np.array(gallery_cams)\n",
        "\n",
        "  for q_idx in range(num_q):\n",
        "    q_pid = query_labels[q_idx]\n",
        "    q_camid = query_cams[q_idx]\n",
        "\n",
        "    order = indices[q_idx]\n",
        "    remove = (gallery_labels[order] == q_pid) & (gallery_cams[order] == q_camid)\n",
        "    keep = np.invert(remove)\n",
        "\n",
        "    matches = (gallery_labels[order] == q_pid).astype(np.int32)\n",
        "    raw_cmc = matches[keep]\n",
        "    if not np.any(raw_cmc):\n",
        "      continue\n",
        "\n",
        "    cmc = raw_cmc.cumsum()\n",
        "\n",
        "    pos_idx = np.where(raw_cmc == 1)[0]\n",
        "    max_pos_idx = np.max(pos_idx)\n",
        "\n",
        "    cmc[cmc > 1] = 1\n",
        "\n",
        "    all_cmc.append(cmc[:max_rank])\n",
        "    num_valid_q += 1.\n",
        "\n",
        "    num_rel = raw_cmc.sum()\n",
        "    tmp_cmc = raw_cmc.cumsum()\n",
        "    tmp_cmc = [x / (i + 1.) for i, x in enumerate(tmp_cmc)]\n",
        "    tmp_cmc = np.asarray(tmp_cmc) * raw_cmc\n",
        "    AP = tmp_cmc.sum() / num_rel\n",
        "    all_AP.append(AP)\n",
        "\n",
        "  assert num_valid_q > 0, 'Error: all query identities do not appear in gallery'\n",
        "\n",
        "  all_cmc = np.asarray(all_cmc).astype(np.float32)\n",
        "  all_cmc = all_cmc.sum(0) / num_valid_q\n",
        "\n",
        "  mAP = np.mean(all_AP)\n",
        "\n",
        "  return mAP, all_cmc"
      ]
    },
    {
      "cell_type": "code",
      "execution_count": null,
      "metadata": {
        "id": "bcz1X_bH_lxX"
      },
      "outputs": [],
      "source": [
        "def compute_distance_matrix(query_features, gallery_features, batch_size=32):\n",
        "    num_query = query_features.shape[0]\n",
        "    num_gallery = gallery_features.shape[0]\n",
        "    dist_matrix = np.zeros((num_query, num_gallery))\n",
        "\n",
        "    for i in range(0, num_query, batch_size):\n",
        "        query_batch = query_features[i:i+batch_size]\n",
        "        for j in range(0, num_gallery, batch_size):\n",
        "            gallery_batch = gallery_features[j:j+batch_size]\n",
        "            query_gallery_dist = np.linalg.norm(query_batch[:, np.newaxis] - gallery_batch, axis=2)\n",
        "            dist_matrix[i:i+len(query_batch), j:j+len(gallery_batch)] = query_gallery_dist\n",
        "\n",
        "    return dist_matrix"
      ]
    },
    {
      "cell_type": "code",
      "execution_count": null,
      "metadata": {
        "id": "rQP4qzsd_ptt"
      },
      "outputs": [],
      "source": [
        "def predict(dist_matrix, gallery_class_names):\n",
        "    predictions = []\n",
        "    for dist in dist_matrix:\n",
        "        pred_idx = np.argmin(dist)\n",
        "        predictions.append(gallery_class_names[pred_idx])\n",
        "    return predictions"
      ]
    },
    {
      "cell_type": "markdown",
      "metadata": {
        "id": "Rf6wdAm__sBK"
      },
      "source": [
        "### ResNet18"
      ]
    },
    {
      "cell_type": "code",
      "execution_count": null,
      "metadata": {
        "id": "u6cIszvB_tJZ"
      },
      "outputs": [],
      "source": [
        "modelResnet18_gs = resnet18(weights=ResNet18_Weights.IMAGENET1K_V1)\n",
        "num_ftrs = modelResnet18_gs.fc.in_features\n",
        "modelResnet18_gs.fc = nn.Linear(num_ftrs, len(class_names))\n",
        "modelResnet18_gs.to(device)\n",
        "modelResnet18_gs.eval()\n",
        "\n",
        "modelResnet18_gs.load_state_dict(torch.load('/content/drive/My Drive/Semester 6/Deep/Proyek/Model/fine-tuned/best_param_resnet18_market-1501.pt', map_location=device))\n",
        "modelResnet18_gs.fc = torch.nn.Linear(num_ftrs, len(test_class_names))\n",
        "\n",
        "for param_tensor in modelResnet18_gs.state_dict():\n",
        "    modelResnet18_gs.state_dict()[param_tensor] = modelResnet18_gs.state_dict()[param_tensor].to(device)\n",
        "modelResnet18_gs.fc.weight.data = modelResnet18_gs.fc.weight.data.to(device)\n",
        "modelResnet18_gs.fc.bias.data = modelResnet18_gs.fc.bias.data.to(device)"
      ]
    },
    {
      "cell_type": "code",
      "execution_count": null,
      "metadata": {
        "id": "cAV56HdV_2Sc"
      },
      "outputs": [],
      "source": [
        "query_features, query_labels = process_in_batches(dataloaders_test['query'], modelResnet18_gs, device)\n",
        "gallery_features, gallery_labels = process_in_batches(dataloaders_test['gallery'], modelResnet18_gs, device)\n",
        "\n",
        "query_features = query_features / np.linalg.norm(query_features, axis=1, keepdims=True)\n",
        "gallery_features = gallery_features / np.linalg.norm(gallery_features, axis=1, keepdims=True)\n",
        "\n",
        "dist_matrix = compute_distance_matrix(query_features, gallery_features, batch_size=32)\n",
        "\n",
        "query_cams = [int(image_datasets['query'].imgs[i][0].split('_')[1][1]) for i in range(len(query_labels))]\n",
        "gallery_cams = [int(image_datasets['gallery'].imgs[i][0].split('_')[1][1]) for i in range(len(gallery_labels))]\n",
        "\n",
        "query_class_names = [image_datasets['query'].classes[label] for label in query_labels]\n",
        "gallery_class_names = [image_datasets['gallery'].classes[label] for label in gallery_labels]"
      ]
    },
    {
      "cell_type": "code",
      "execution_count": null,
      "metadata": {
        "colab": {
          "base_uri": "https://localhost:8080/"
        },
        "id": "e518h8523EU6",
        "outputId": "a5e2c477-0698-4e1d-f9b6-e092daec2b68"
      },
      "outputs": [
        {
          "name": "stdout",
          "output_type": "stream",
          "text": [
            "\n",
            "mINP: 0.4693\n",
            "mAP: 0.7892\n",
            "CMC (top-1, top-5, top-10): 0.9807, 0.9933, 0.9940\n"
          ]
        }
      ],
      "source": [
        "mAP, cmc = compute_mAP_and_CMC(dist_matrix, query_labels, gallery_labels, query_cams, gallery_cams)\n",
        "predictions = predict(dist_matrix, gallery_class_names)\n",
        "\n",
        "print(f'mAP: {mAP:.4f}')\n",
        "print(f'CMC (top-1, top-5, top-10): {cmc[0]:.4f}, {cmc[4]:.4f}, {cmc[9]:.4f}')"
      ]
    },
    {
      "cell_type": "code",
      "execution_count": null,
      "metadata": {
        "id": "u-Tt31p7_4ud"
      },
      "outputs": [],
      "source": [
        "modelResnet18_no_gs = resnet18(weights=ResNet18_Weights.IMAGENET1K_V1)\n",
        "num_ftrs = modelResnet18_no_gs.fc.in_features\n",
        "modelResnet18_no_gs.fc = nn.Linear(num_ftrs, len(class_names))\n",
        "modelResnet18_no_gs.to(device)\n",
        "modelResnet18_no_gs.eval()\n",
        "\n",
        "modelResnet18_no_gs.load_state_dict(torch.load('/content/drive/My Drive/Semester 6/Deep/Proyek/Model/fine-tuned/best_param_resnet18_market-1501_no_gs.pt', map_location=device))\n",
        "modelResnet18_no_gs.fc = torch.nn.Linear(num_ftrs, len(test_class_names))\n",
        "\n",
        "for param_tensor in modelResnet18_no_gs.state_dict():\n",
        "    modelResnet18_no_gs.state_dict()[param_tensor] = modelResnet18_no_gs.state_dict()[param_tensor].to(device)\n",
        "modelResnet18_no_gs.fc.weight.data = modelResnet18_no_gs.fc.weight.data.to(device)\n",
        "modelResnet18_no_gs.fc.bias.data = modelResnet18_no_gs.fc.bias.data.to(device)"
      ]
    },
    {
      "cell_type": "code",
      "execution_count": null,
      "metadata": {
        "colab": {
          "base_uri": "https://localhost:8080/"
        },
        "id": "Kf_BpesRAGWw",
        "outputId": "1dea1921-d644-4edd-daee-f1a4cdc7450c"
      },
      "outputs": [
        {
          "name": "stdout",
          "output_type": "stream",
          "text": [
            "\n",
            "mINP: 0.4725\n",
            "mAP: 0.7834\n",
            "CMC (top-1, top-5, top-10): 0.9821, 0.9918, 0.9955\n"
          ]
        }
      ],
      "source": [
        "query_features, query_labels = process_in_batches(dataloaders_test['query'], modelResnet18_no_gs, device)\n",
        "gallery_features, gallery_labels = process_in_batches(dataloaders_test['gallery'], modelResnet18_no_gs, device)\n",
        "\n",
        "query_features = query_features / np.linalg.norm(query_features, axis=1, keepdims=True)\n",
        "gallery_features = gallery_features / np.linalg.norm(gallery_features, axis=1, keepdims=True)\n",
        "\n",
        "dist_matrix = compute_distance_matrix(query_features, gallery_features, batch_size=32)\n",
        "\n",
        "query_cams = [int(image_datasets['query'].imgs[i][0].split('_')[1][1]) for i in range(len(query_labels))]\n",
        "gallery_cams = [int(image_datasets['gallery'].imgs[i][0].split('_')[1][1]) for i in range(len(gallery_labels))]\n",
        "\n",
        "query_class_names = [image_datasets['query'].classes[label] for label in query_labels]\n",
        "gallery_class_names = [image_datasets['gallery'].classes[label] for label in gallery_labels]\n",
        "\n",
        "mAP, cmc = compute_mAP_and_CMC(dist_matrix, query_labels, gallery_labels, query_cams, gallery_cams)\n",
        "predictions = predict(dist_matrix, gallery_class_names)\n",
        "\n",
        "print(f'mAP: {mAP:.4f}')\n",
        "print(f'CMC (top-1, top-5, top-10): {cmc[0]:.4f}, {cmc[4]:.4f}, {cmc[9]:.4f}')"
      ]
    },
    {
      "cell_type": "markdown",
      "metadata": {
        "id": "IE06cBbLAIvU"
      },
      "source": [
        "### ResNet34"
      ]
    },
    {
      "cell_type": "code",
      "execution_count": null,
      "metadata": {
        "colab": {
          "base_uri": "https://localhost:8080/"
        },
        "id": "DPUD7HF6AJ4R",
        "outputId": "21cf52f2-e317-44db-d087-801ba6bc96bf"
      },
      "outputs": [
        {
          "name": "stderr",
          "output_type": "stream",
          "text": [
            "Downloading: \"https://download.pytorch.org/models/resnet34-b627a593.pth\" to /root/.cache/torch/hub/checkpoints/resnet34-b627a593.pth\n",
            "100%|██████████| 83.3M/83.3M [00:01<00:00, 47.1MB/s]\n"
          ]
        }
      ],
      "source": [
        "modelResnet34_gs = resnet34(weights=ResNet34_Weights.IMAGENET1K_V1)\n",
        "num_ftrs = modelResnet34_gs.fc.in_features\n",
        "modelResnet34_gs.fc = nn.Linear(num_ftrs, len(class_names))\n",
        "modelResnet34_gs.to(device)\n",
        "modelResnet34_gs.eval()\n",
        "\n",
        "modelResnet34_gs.load_state_dict(torch.load('/content/drive/My Drive/Semester 6/Deep/Proyek/Model/fine-tuned/best_param_resnet34_market-1501.pt', map_location=device))\n",
        "modelResnet34_gs.fc = torch.nn.Linear(num_ftrs, len(test_class_names))\n",
        "\n",
        "for param_tensor in modelResnet34_gs.state_dict():\n",
        "    modelResnet34_gs.state_dict()[param_tensor] = modelResnet34_gs.state_dict()[param_tensor].to(device)\n",
        "modelResnet34_gs.fc.weight.data = modelResnet34_gs.fc.weight.data.to(device)\n",
        "modelResnet34_gs.fc.bias.data = modelResnet34_gs.fc.bias.data.to(device)"
      ]
    },
    {
      "cell_type": "code",
      "execution_count": null,
      "metadata": {
        "colab": {
          "base_uri": "https://localhost:8080/"
        },
        "id": "l0yFwFrwAfEs",
        "outputId": "5c52beed-d12f-4844-cf1b-9bab99be6406"
      },
      "outputs": [
        {
          "name": "stdout",
          "output_type": "stream",
          "text": [
            "\n",
            "mINP: 0.6362\n",
            "mAP: 0.8651\n",
            "CMC (top-1, top-5, top-10): 0.9881, 0.9963, 0.9985\n"
          ]
        }
      ],
      "source": [
        "query_features, query_labels = process_in_batches(dataloaders_test['query'], modelResnet34_gs, device)\n",
        "gallery_features, gallery_labels = process_in_batches(dataloaders_test['gallery'], modelResnet34_gs, device)\n",
        "\n",
        "query_features = query_features / np.linalg.norm(query_features, axis=1, keepdims=True)\n",
        "gallery_features = gallery_features / np.linalg.norm(gallery_features, axis=1, keepdims=True)\n",
        "\n",
        "dist_matrix = compute_distance_matrix(query_features, gallery_features, batch_size=32)\n",
        "\n",
        "query_cams = [int(image_datasets['query'].imgs[i][0].split('_')[1][1]) for i in range(len(query_labels))]\n",
        "gallery_cams = [int(image_datasets['gallery'].imgs[i][0].split('_')[1][1]) for i in range(len(gallery_labels))]\n",
        "\n",
        "query_class_names = [image_datasets['query'].classes[label] for label in query_labels]\n",
        "gallery_class_names = [image_datasets['gallery'].classes[label] for label in gallery_labels]\n",
        "\n",
        "mAP, cmc = compute_mAP_and_CMC(dist_matrix, query_labels, gallery_labels, query_cams, gallery_cams)\n",
        "predictions = predict(dist_matrix, gallery_class_names)\n",
        "\n",
        "print(f'mAP: {mAP:.4f}')\n",
        "print(f'CMC (top-1, top-5, top-10): {cmc[0]:.4f}, {cmc[4]:.4f}, {cmc[9]:.4f}')"
      ]
    },
    {
      "cell_type": "code",
      "execution_count": null,
      "metadata": {
        "id": "CuWMT8XfAjQW"
      },
      "outputs": [],
      "source": [
        "modelResnet34_no_gs = resnet34(weights=ResNet34_Weights.IMAGENET1K_V1)\n",
        "num_ftrs = modelResnet34_no_gs.fc.in_features\n",
        "modelResnet34_no_gs.fc = nn.Linear(num_ftrs, len(class_names))\n",
        "modelResnet34_no_gs.to(device)\n",
        "modelResnet34_no_gs.eval()\n",
        "\n",
        "modelResnet34_no_gs.load_state_dict(torch.load('/content/drive/My Drive/Semester 6/Deep/Proyek/Model/2/best_param_resnet34_market-1501_no_gs.pt', map_location=device))\n",
        "modelResnet34_no_gs.fc = torch.nn.Linear(num_ftrs, len(test_class_names))\n",
        "\n",
        "for param_tensor in modelResnet34_no_gs.state_dict():\n",
        "    modelResnet34_no_gs.state_dict()[param_tensor] = modelResnet34_no_gs.state_dict()[param_tensor].to(device)\n",
        "modelResnet34_no_gs.fc.weight.data = modelResnet34_no_gs.fc.weight.data.to(device)\n",
        "modelResnet34_no_gs.fc.bias.data = modelResnet34_no_gs.fc.bias.data.to(device)"
      ]
    },
    {
      "cell_type": "code",
      "execution_count": null,
      "metadata": {
        "colab": {
          "base_uri": "https://localhost:8080/"
        },
        "id": "NOWlFcvJAocI",
        "outputId": "67d89f42-eef7-4c56-8c12-263dee16a28b"
      },
      "outputs": [
        {
          "name": "stdout",
          "output_type": "stream",
          "text": [
            "\n",
            "mINP: 0.3848\n",
            "mAP: 0.7521\n",
            "CMC (top-1, top-5, top-10): 0.9598, 0.9821, 0.9896\n"
          ]
        }
      ],
      "source": [
        "query_features, query_labels = process_in_batches(dataloaders_test['query'], modelResnet34_no_gs, device)\n",
        "gallery_features, gallery_labels = process_in_batches(dataloaders_test['gallery'], modelResnet34_no_gs, device)\n",
        "\n",
        "query_features = query_features / np.linalg.norm(query_features, axis=1, keepdims=True)\n",
        "gallery_features = gallery_features / np.linalg.norm(gallery_features, axis=1, keepdims=True)\n",
        "\n",
        "dist_matrix = compute_distance_matrix(query_features, gallery_features, batch_size=32)\n",
        "\n",
        "query_cams = [int(image_datasets['query'].imgs[i][0].split('_')[1][1]) for i in range(len(query_labels))]\n",
        "gallery_cams = [int(image_datasets['gallery'].imgs[i][0].split('_')[1][1]) for i in range(len(gallery_labels))]\n",
        "\n",
        "query_class_names = [image_datasets['query'].classes[label] for label in query_labels]\n",
        "gallery_class_names = [image_datasets['gallery'].classes[label] for label in gallery_labels]\n",
        "\n",
        "mAP, cmc = compute_mAP_and_CMC(dist_matrix, query_labels, gallery_labels, query_cams, gallery_cams)\n",
        "predictions = predict(dist_matrix, gallery_class_names)\n",
        "\n",
        "print(f'mAP: {mAP:.4f}')\n",
        "print(f'CMC (top-1, top-5, top-10): {cmc[0]:.4f}, {cmc[4]:.4f}, {cmc[9]:.4f}')"
      ]
    },
    {
      "cell_type": "markdown",
      "metadata": {
        "id": "Fdwr7bAzAhNP"
      },
      "source": [
        "### ResNet50"
      ]
    },
    {
      "cell_type": "code",
      "execution_count": null,
      "metadata": {
        "id": "9_DZsekgAt0i"
      },
      "outputs": [],
      "source": [
        "modelResnet50_gs = resnet50(weights=ResNet50_Weights.IMAGENET1K_V1)\n",
        "num_ftrs = modelResnet50_gs.fc.in_features\n",
        "modelResnet50_gs.fc = nn.Linear(num_ftrs, len(class_names))\n",
        "modelResnet50_gs.to(device)\n",
        "modelResnet50_gs.eval()\n",
        "\n",
        "modelResnet50_gs.load_state_dict(torch.load('/content/drive/My Drive/Semester 6/Deep/Proyek/Model/4/best_param_resnet50_market-1501.pt', map_location=device))\n",
        "modelResnet50_gs.fc = torch.nn.Linear(num_ftrs, len(test_class_names))\n",
        "\n",
        "for param_tensor in modelResnet50_gs.state_dict():\n",
        "    modelResnet50_gs.state_dict()[param_tensor] = modelResnet50_gs.state_dict()[param_tensor].to(device)\n",
        "modelResnet50_gs.fc.weight.data = modelResnet50_gs.fc.weight.data.to(device)\n",
        "modelResnet50_gs.fc.bias.data = modelResnet50_gs.fc.bias.data.to(device)"
      ]
    },
    {
      "cell_type": "code",
      "execution_count": null,
      "metadata": {
        "colab": {
          "base_uri": "https://localhost:8080/"
        },
        "id": "jOVH6-o0A5rJ",
        "outputId": "de4504e9-93f8-4e51-b96d-c2dcf98467c0"
      },
      "outputs": [
        {
          "name": "stdout",
          "output_type": "stream",
          "text": [
            "\n",
            "mINP: 0.2029\n",
            "mAP: 0.5983\n",
            "CMC (top-1, top-5, top-10): 0.9449, 0.9792, 0.9859\n"
          ]
        }
      ],
      "source": [
        "query_features, query_labels = process_in_batches(dataloaders_test['query'], modelResnet50_gs, device)\n",
        "gallery_features, gallery_labels = process_in_batches(dataloaders_test['gallery'], modelResnet50_gs, device)\n",
        "\n",
        "query_features = query_features / np.linalg.norm(query_features, axis=1, keepdims=True)\n",
        "gallery_features = gallery_features / np.linalg.norm(gallery_features, axis=1, keepdims=True)\n",
        "\n",
        "dist_matrix = compute_distance_matrix(query_features, gallery_features, batch_size=32)\n",
        "\n",
        "query_cams = [int(image_datasets['query'].imgs[i][0].split('_')[1][1]) for i in range(len(query_labels))]\n",
        "gallery_cams = [int(image_datasets['gallery'].imgs[i][0].split('_')[1][1]) for i in range(len(gallery_labels))]\n",
        "\n",
        "query_class_names = [image_datasets['query'].classes[label] for label in query_labels]\n",
        "gallery_class_names = [image_datasets['gallery'].classes[label] for label in gallery_labels]\n",
        "\n",
        "mAP, cmc = compute_mAP_and_CMC(dist_matrix, query_labels, gallery_labels, query_cams, gallery_cams)\n",
        "predictions = predict(dist_matrix, gallery_class_names)\n",
        "\n",
        "print(f'mAP: {mAP:.4f}')\n",
        "print(f'CMC (top-1, top-5, top-10): {cmc[0]:.4f}, {cmc[4]:.4f}, {cmc[9]:.4f}')"
      ]
    },
    {
      "cell_type": "code",
      "execution_count": null,
      "metadata": {
        "id": "g_OSuMZ6BEVg"
      },
      "outputs": [],
      "source": [
        "modelResnet50_no_gs = resnet50(weights=ResNet50_Weights.IMAGENET1K_V1)\n",
        "num_ftrs = modelResnet50_no_gs.fc.in_features\n",
        "modelResnet50_no_gs.fc = nn.Linear(num_ftrs, len(class_names))\n",
        "modelResnet50_no_gs.to(device)\n",
        "modelResnet50_no_gs.eval()\n",
        "\n",
        "modelResnet50_no_gs.load_state_dict(torch.load('/content/drive/My Drive/Semester 6/Deep/Proyek/Model/2/best_param_resnet50_market-1501_no_gs.pt', map_location=device))\n",
        "modelResnet50_no_gs.fc = torch.nn.Linear(num_ftrs, len(test_class_names))\n",
        "\n",
        "for param_tensor in modelResnet50_no_gs.state_dict():\n",
        "    modelResnet50_no_gs.state_dict()[param_tensor] = modelResnet50_no_gs.state_dict()[param_tensor].to(device)\n",
        "modelResnet50_no_gs.fc.weight.data = modelResnet50_no_gs.fc.weight.data.to(device)\n",
        "modelResnet50_no_gs.fc.bias.data = modelResnet50_no_gs.fc.bias.data.to(device)"
      ]
    },
    {
      "cell_type": "code",
      "execution_count": null,
      "metadata": {
        "colab": {
          "base_uri": "https://localhost:8080/"
        },
        "id": "O-M9eDYnBI0_",
        "outputId": "0c5cf9ac-24e0-4f0f-e13c-33d368c7ff4a"
      },
      "outputs": [
        {
          "name": "stdout",
          "output_type": "stream",
          "text": [
            "\n",
            "mINP: 0.2001\n",
            "mAP: 0.5981\n",
            "CMC (top-1, top-5, top-10): 0.9509, 0.9799, 0.9896\n"
          ]
        }
      ],
      "source": [
        "query_features, query_labels = process_in_batches(dataloaders_test['query'], modelResnet50_no_gs, device)\n",
        "gallery_features, gallery_labels = process_in_batches(dataloaders_test['gallery'], modelResnet50_no_gs, device)\n",
        "\n",
        "query_features = query_features / np.linalg.norm(query_features, axis=1, keepdims=True)\n",
        "gallery_features = gallery_features / np.linalg.norm(gallery_features, axis=1, keepdims=True)\n",
        "\n",
        "dist_matrix = compute_distance_matrix(query_features, gallery_features, batch_size=32)\n",
        "\n",
        "query_cams = [int(image_datasets['query'].imgs[i][0].split('_')[1][1]) for i in range(len(query_labels))]\n",
        "gallery_cams = [int(image_datasets['gallery'].imgs[i][0].split('_')[1][1]) for i in range(len(gallery_labels))]\n",
        "\n",
        "query_class_names = [image_datasets['query'].classes[label] for label in query_labels]\n",
        "gallery_class_names = [image_datasets['gallery'].classes[label] for label in gallery_labels]\n",
        "\n",
        "mAP, cmc = compute_mAP_and_CMC(dist_matrix, query_labels, gallery_labels, query_cams, gallery_cams)\n",
        "predictions = predict(dist_matrix, gallery_class_names)\n",
        "\n",
        "print(f'mAP: {mAP:.4f}')\n",
        "print(f'CMC (top-1, top-5, top-10): {cmc[0]:.4f}, {cmc[4]:.4f}, {cmc[9]:.4f}')"
      ]
    },
    {
      "cell_type": "markdown",
      "metadata": {
        "id": "YMB_qwQZBKxq"
      },
      "source": [
        "### ResNext50_32x4d"
      ]
    },
    {
      "cell_type": "code",
      "execution_count": null,
      "metadata": {
        "id": "OQdj86irBM-c"
      },
      "outputs": [],
      "source": [
        "modelResnext_gs = resnext50_32x4d(weights=ResNeXt50_32X4D_Weights.IMAGENET1K_V1)\n",
        "num_ftrs = modelResnext_gs.fc.in_features\n",
        "modelResnext_gs.fc = nn.Linear(num_ftrs, len(class_names))\n",
        "modelResnext_gs.eval()\n",
        "modelResnext_gs.to(device)\n",
        "\n",
        "modelResnext_gs.load_state_dict(torch.load('/content/drive/My Drive/Semester 6/Deep/Proyek/Model/2/best_param_resnext_market-1501.pt', map_location=device))\n",
        "modelResnext_gs.fc = torch.nn.Linear(num_ftrs, len(test_class_names))\n",
        "\n",
        "for param_tensor in modelResnext_gs.state_dict():\n",
        "    modelResnext_gs.state_dict()[param_tensor] = modelResnext_gs.state_dict()[param_tensor].to(device)\n",
        "modelResnext_gs.fc.weight.data = modelResnext_gs.fc.weight.data.to(device)\n",
        "modelResnext_gs.fc.bias.data = modelResnext_gs.fc.bias.data.to(device)"
      ]
    },
    {
      "cell_type": "code",
      "execution_count": null,
      "metadata": {
        "colab": {
          "base_uri": "https://localhost:8080/"
        },
        "id": "vN5YHWj2BRl0",
        "outputId": "bcbc9e84-1e4a-4143-cab9-10d08e070a64"
      },
      "outputs": [
        {
          "name": "stdout",
          "output_type": "stream",
          "text": [
            "\n",
            "mINP: 0.2724\n",
            "mAP: 0.6544\n",
            "CMC (top-1, top-5, top-10): 0.9360, 0.9784, 0.9859\n"
          ]
        }
      ],
      "source": [
        "query_features, query_labels = process_in_batches(dataloaders_test['query'], modelResnext_gs, device)\n",
        "gallery_features, gallery_labels = process_in_batches(dataloaders_test['gallery'], modelResnext_gs, device)\n",
        "\n",
        "query_features = query_features / np.linalg.norm(query_features, axis=1, keepdims=True)\n",
        "gallery_features = gallery_features / np.linalg.norm(gallery_features, axis=1, keepdims=True)\n",
        "\n",
        "dist_matrix = compute_distance_matrix(query_features, gallery_features, batch_size=32)\n",
        "\n",
        "query_cams = [int(image_datasets['query'].imgs[i][0].split('_')[1][1]) for i in range(len(query_labels))]\n",
        "gallery_cams = [int(image_datasets['gallery'].imgs[i][0].split('_')[1][1]) for i in range(len(gallery_labels))]\n",
        "\n",
        "query_class_names = [image_datasets['query'].classes[label] for label in query_labels]\n",
        "gallery_class_names = [image_datasets['gallery'].classes[label] for label in gallery_labels]\n",
        "\n",
        "mAP, cmc = compute_mAP_and_CMC(dist_matrix, query_labels, gallery_labels, query_cams, gallery_cams)\n",
        "predictions = predict(dist_matrix, gallery_class_names)\n",
        "\n",
        "print(f'mAP: {mAP:.4f}')\n",
        "print(f'CMC (top-1, top-5, top-10): {cmc[0]:.4f}, {cmc[4]:.4f}, {cmc[9]:.4f}')"
      ]
    },
    {
      "cell_type": "code",
      "execution_count": null,
      "metadata": {
        "id": "92nJhdt9BZpb"
      },
      "outputs": [],
      "source": [
        "modelResnext_no_gs = resnext50_32x4d(weights=ResNeXt50_32X4D_Weights.IMAGENET1K_V1)\n",
        "num_ftrs = modelResnext_no_gs.fc.in_features\n",
        "modelResnext_no_gs.fc = nn.Linear(num_ftrs, len(class_names))\n",
        "modelResnext_no_gs.eval()\n",
        "modelResnext_no_gs.to(device)\n",
        "\n",
        "modelResnext_no_gs.load_state_dict(torch.load('/content/drive/My Drive/Semester 6/Deep/Proyek/Model/2/best_param_resnext_market-1501_no_gs.pt', map_location=device))\n",
        "modelResnext_no_gs.fc = torch.nn.Linear(num_ftrs, len(test_class_names))\n",
        "\n",
        "for param_tensor in modelResnext_no_gs.state_dict():\n",
        "    modelResnext_no_gs.state_dict()[param_tensor] = modelResnext_no_gs.state_dict()[param_tensor].to(device)\n",
        "modelResnext_no_gs.fc.weight.data = modelResnext_no_gs.fc.weight.data.to(device)\n",
        "modelResnext_no_gs.fc.bias.data = modelResnext_no_gs.fc.bias.data.to(device)"
      ]
    },
    {
      "cell_type": "code",
      "execution_count": null,
      "metadata": {
        "colab": {
          "base_uri": "https://localhost:8080/"
        },
        "id": "mm-S21I8BscD",
        "outputId": "6509d124-7c0a-40be-d0d7-47d2ac408b37"
      },
      "outputs": [
        {
          "name": "stdout",
          "output_type": "stream",
          "text": [
            "\n",
            "mINP: 0.3393\n",
            "mAP: 0.7156\n",
            "CMC (top-1, top-5, top-10): 0.9665, 0.9874, 0.9918\n"
          ]
        }
      ],
      "source": [
        "query_features, query_labels = process_in_batches(dataloaders_test['query'], modelResnext_no_gs, device)\n",
        "gallery_features, gallery_labels = process_in_batches(dataloaders_test['gallery'], modelResnext_no_gs, device)\n",
        "\n",
        "query_features = query_features / np.linalg.norm(query_features, axis=1, keepdims=True)\n",
        "gallery_features = gallery_features / np.linalg.norm(gallery_features, axis=1, keepdims=True)\n",
        "\n",
        "dist_matrix = compute_distance_matrix(query_features, gallery_features, batch_size=32)\n",
        "\n",
        "query_cams = [int(image_datasets['query'].imgs[i][0].split('_')[1][1]) for i in range(len(query_labels))]\n",
        "gallery_cams = [int(image_datasets['gallery'].imgs[i][0].split('_')[1][1]) for i in range(len(gallery_labels))]\n",
        "\n",
        "query_class_names = [image_datasets['query'].classes[label] for label in query_labels]\n",
        "gallery_class_names = [image_datasets['gallery'].classes[label] for label in gallery_labels]\n",
        "\n",
        "mAP, cmc = compute_mAP_and_CMC(dist_matrix, query_labels, gallery_labels, query_cams, gallery_cams)\n",
        "predictions = predict(dist_matrix, gallery_class_names)\n",
        "\n",
        "print(f'mAP: {mAP:.4f}')\n",
        "print(f'CMC (top-1, top-5, top-10): {cmc[0]:.4f}, {cmc[4]:.4f}, {cmc[9]:.4f}')"
      ]
    }
  ],
  "metadata": {
    "accelerator": "GPU",
    "colab": {
      "collapsed_sections": [
        "g0HRMTjakel0",
        "L4FOAqs2kgHU",
        "IC689H2lkhVe",
        "ozhGBo7OkZVE",
        "UIjH_RTJPKL3",
        "Rf6wdAm__sBK",
        "IE06cBbLAIvU",
        "Fdwr7bAzAhNP",
        "YMB_qwQZBKxq"
      ],
      "gpuType": "T4",
      "provenance": []
    },
    "kernelspec": {
      "display_name": "Python 3",
      "name": "python3"
    },
    "language_info": {
      "name": "python"
    }
  },
  "nbformat": 4,
  "nbformat_minor": 0
}
